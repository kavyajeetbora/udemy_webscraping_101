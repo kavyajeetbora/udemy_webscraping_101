{
 "cells": [
  {
   "cell_type": "code",
   "execution_count": 1,
   "id": "f0b8547e",
   "metadata": {},
   "outputs": [],
   "source": [
    "from lxml import etree"
   ]
  },
  {
   "cell_type": "code",
   "execution_count": 2,
   "id": "97607efe",
   "metadata": {},
   "outputs": [
    {
     "data": {
      "text/plain": [
       "<lxml.etree._ElementTree at 0x1111625dec8>"
      ]
     },
     "execution_count": 2,
     "metadata": {},
     "output_type": "execute_result"
    }
   ],
   "source": [
    "tree = etree.parse(\"code.html\")\n",
    "tree"
   ]
  },
  {
   "cell_type": "code",
   "execution_count": 3,
   "id": "500993b8",
   "metadata": {},
   "outputs": [
    {
     "data": {
      "text/plain": [
       "b'<!DOCTYPE html>\\n<html lang=\"en\">\\n        <head>\\n            <title>XPath and CSS Selectors</title>\\n        </head>\\n        <body>\\n            <h1>CSS Selectors simplified</h1>\\n            <div class=\"intro\">\\n                <p>\\n                    I\\'m paragraph within a div with a class set to intro\\n                    <span id=\"location\">I\\'m a span with ID set to location and i\\'m within a paragraph</span>\\n                </p>\\n                <p id=\"outside\">I\\'m a paragraph with ID set to outside and i\\'m within a div with a class set to intro</p>\\n            </div>\\n            <p>Hi i\\'m placed immediately after a div with a class set to intro</p>\\n            <span class=\"intro\">Div with a class attribute set to intro</span>\\n\\n            <ul id=\"items\">\\n                <li data-identifier=\"7\">Item 1</li>\\n                <li>Item 2</li>\\n                <li>Item 3</li>\\n                <li>Item 4</li>\\n            </ul>\\n\\n            <a href=\"https://www.google.com\">Google</a>\\n            <a href=\"http://www.google.fr\">Google France</a>\\n\\n            <p class=\"bold italic\">Hi, I have two classes</p>\\n            <p class=\"bold\">Hi i\\'m bold</p>\\n            <table cellpadding=\"2\" cellspacing=\"2\" border=\"1px\">\\n                <th>Name</th>\\n                <th>Type of animal</th>\\n                <tr>\\n                    <td>Mickey</td>\\n                    <td>Mouse</td>\\n                </tr>\\n                <tr>\\n                    <td>Goofey</td>\\n                    <td>Dog</td>\\n                </tr>\\n                <tr>\\n                    <td>Daisy</td>\\n                    <td>Duck</td>\\n                </tr>\\n                <tr>\\n                    <td>Pluto</td>\\n                    <td>Dog</td>\\n                </tr>\\n            </table>\\n        </body>\\n    </html>'"
      ]
     },
     "execution_count": 3,
     "metadata": {},
     "output_type": "execute_result"
    }
   ],
   "source": [
    "etree.tostring(tree)"
   ]
  },
  {
   "cell_type": "code",
   "execution_count": 4,
   "id": "e2f5a27c",
   "metadata": {},
   "outputs": [
    {
     "data": {
      "text/plain": [
       "<Element html at 0x111162b1088>"
      ]
     },
     "execution_count": 4,
     "metadata": {},
     "output_type": "execute_result"
    }
   ],
   "source": [
    "html = tree.getroot()\n",
    "html"
   ]
  },
  {
   "cell_type": "markdown",
   "id": "287d3e45",
   "metadata": {},
   "source": [
    "## fundamentals of css selectors"
   ]
  },
  {
   "cell_type": "code",
   "execution_count": 5,
   "id": "09b2a134",
   "metadata": {},
   "outputs": [
    {
     "data": {
      "text/plain": [
       "'CSS Selectors simplified'"
      ]
     },
     "execution_count": 5,
     "metadata": {},
     "output_type": "execute_result"
    }
   ],
   "source": [
    "## scrap the header\n",
    "html.cssselect(\"h1\")[0].text"
   ]
  },
  {
   "cell_type": "markdown",
   "id": "c2105e0d",
   "metadata": {},
   "source": [
    "We need to be specific while selecting the css selectors. Otherwise if a generic name is provided then there might be too many elements of same tags. for example if we want to call elements with class = \"intro\":"
   ]
  },
  {
   "cell_type": "code",
   "execution_count": 6,
   "id": "61e9c642",
   "metadata": {},
   "outputs": [
    {
     "name": "stdout",
     "output_type": "stream",
     "text": [
      "b'<div class=\"intro\">\\n                <p>\\n                    I\\'m paragraph within a div with a class set to intro\\n                    <span id=\"location\">I\\'m a span with ID set to location and i\\'m within a paragraph</span>\\n                </p>\\n                <p id=\"outside\">I\\'m a paragraph with ID set to outside and i\\'m within a div with a class set to intro</p>\\n            </div>\\n            '\n",
      "------------------------------\n",
      "b'<span class=\"intro\">Div with a class attribute set to intro</span>\\n\\n            '\n",
      "------------------------------\n"
     ]
    }
   ],
   "source": [
    "for elem in html.cssselect(\".intro\"):\n",
    "    print(etree.tostring(elem))\n",
    "    print(\"-\"*30)"
   ]
  },
  {
   "cell_type": "markdown",
   "id": "464d48b8",
   "metadata": {},
   "source": [
    "This will give two elements:\n",
    "- div\n",
    "- span\n",
    "if we want a specific tag say for example, div with class intro then we can type:"
   ]
  },
  {
   "cell_type": "code",
   "execution_count": 7,
   "id": "c3004cc8",
   "metadata": {},
   "outputs": [
    {
     "name": "stdout",
     "output_type": "stream",
     "text": [
      "b'<div class=\"intro\">\\n                <p>\\n                    I\\'m paragraph within a div with a class set to intro\\n                    <span id=\"location\">I\\'m a span with ID set to location and i\\'m within a paragraph</span>\\n                </p>\\n                <p id=\"outside\">I\\'m a paragraph with ID set to outside and i\\'m within a div with a class set to intro</p>\\n            </div>\\n            '\n",
      "------------------------------\n"
     ]
    }
   ],
   "source": [
    "for elem in html.cssselect(\"div.intro\"):\n",
    "    print(etree.tostring(elem))\n",
    "    print(\"-\"*30)"
   ]
  },
  {
   "cell_type": "markdown",
   "id": "560b94fe",
   "metadata": {},
   "source": [
    "Similarly we can call by the element ids. remember ids are unique so just calling the ids is enough for an element to be unique:"
   ]
  },
  {
   "cell_type": "code",
   "execution_count": 8,
   "id": "7c4f3524",
   "metadata": {},
   "outputs": [
    {
     "name": "stdout",
     "output_type": "stream",
     "text": [
      "b'<span id=\"location\">I\\'m a span with ID set to location and i\\'m within a paragraph</span>\\n                '\n",
      "------------------------------\n"
     ]
    }
   ],
   "source": [
    "for elem in html.cssselect(\"#location\"):\n",
    "    print(etree.tostring(elem))\n",
    "    print(\"-\"*30)"
   ]
  },
  {
   "cell_type": "markdown",
   "id": "d662dca6",
   "metadata": {},
   "source": [
    "Sometimes we might wanna call a element with two classes:"
   ]
  },
  {
   "cell_type": "code",
   "execution_count": 9,
   "id": "ae23bb0e",
   "metadata": {},
   "outputs": [
    {
     "name": "stdout",
     "output_type": "stream",
     "text": [
      "b'<p class=\"bold italic\">Hi, I have two classes</p>\\n            '\n",
      "------------------------------\n"
     ]
    }
   ],
   "source": [
    "for elem in html.cssselect(\".bold.italic\"):\n",
    "    print(etree.tostring(elem))\n",
    "    print(\"-\"*30)"
   ]
  },
  {
   "cell_type": "markdown",
   "id": "2f25be05",
   "metadata": {},
   "source": [
    "### css selectors by attributes\n",
    "\n",
    "like we want to select the below tag:\n",
    "\n",
    "```html\n",
    "<li data-identifier=\"7\">Item 1</li>\n",
    "```"
   ]
  },
  {
   "cell_type": "code",
   "execution_count": 10,
   "id": "027275cd",
   "metadata": {},
   "outputs": [
    {
     "data": {
      "text/plain": [
       "[<Element li at 0x11116393e08>]"
      ]
     },
     "execution_count": 10,
     "metadata": {},
     "output_type": "execute_result"
    }
   ],
   "source": [
    "html.cssselect(\"li[data-identifier='7']\")"
   ]
  },
  {
   "cell_type": "markdown",
   "id": "b893993a",
   "metadata": {},
   "source": [
    "Alternatively we can select it using directly:"
   ]
  },
  {
   "cell_type": "code",
   "execution_count": 11,
   "id": "4e663f31",
   "metadata": {},
   "outputs": [
    {
     "data": {
      "text/plain": [
       "[<Element li at 0x11116393e08>]"
      ]
     },
     "execution_count": 11,
     "metadata": {},
     "output_type": "execute_result"
    }
   ],
   "source": [
    "html.cssselect(\"[data-identifier='7']\")"
   ]
  },
  {
   "cell_type": "markdown",
   "id": "0c09bb63",
   "metadata": {},
   "source": [
    "### css selectors with conditions"
   ]
  },
  {
   "cell_type": "markdown",
   "id": "5dd1440e",
   "metadata": {},
   "source": [
    "what if we want all a tag elements with href staring with \"https\":"
   ]
  },
  {
   "cell_type": "code",
   "execution_count": 12,
   "id": "849a87a4",
   "metadata": {},
   "outputs": [
    {
     "name": "stdout",
     "output_type": "stream",
     "text": [
      "[<Element a at 0x111163d3e48>]\n"
     ]
    },
    {
     "data": {
      "text/plain": [
       "b'<a href=\"https://www.google.com\">Google</a>\\n            '"
      ]
     },
     "execution_count": 12,
     "metadata": {},
     "output_type": "execute_result"
    }
   ],
   "source": [
    "elem = html.cssselect(\"a[href^=https]\")\n",
    "print(elem)\n",
    "etree.tostring(elem[0])"
   ]
  },
  {
   "cell_type": "markdown",
   "id": "a2131264",
   "metadata": {},
   "source": [
    "Alternatively, a tag with href ending with \"fr\":"
   ]
  },
  {
   "cell_type": "code",
   "execution_count": 13,
   "id": "3fad4730",
   "metadata": {},
   "outputs": [
    {
     "name": "stdout",
     "output_type": "stream",
     "text": [
      "[<Element a at 0x111163d3cc8>]\n"
     ]
    },
    {
     "data": {
      "text/plain": [
       "b'<a href=\"http://www.google.fr\">Google France</a>\\n\\n            '"
      ]
     },
     "execution_count": 13,
     "metadata": {},
     "output_type": "execute_result"
    }
   ],
   "source": [
    "elem = html.cssselect(\"a[href$=fr]\")\n",
    "print(elem)\n",
    "etree.tostring(elem[0])"
   ]
  },
  {
   "cell_type": "markdown",
   "id": "810ad319",
   "metadata": {},
   "source": [
    "And finally finding some tag with attributes containg some string in between:"
   ]
  },
  {
   "cell_type": "code",
   "execution_count": 14,
   "id": "0d8d99e2",
   "metadata": {},
   "outputs": [
    {
     "name": "stdout",
     "output_type": "stream",
     "text": [
      "[<Element a at 0x111163f0088>, <Element a at 0x111163d3cc8>] \n",
      "\n",
      "b'<a href=\"https://www.google.com\">Google</a>\\n            '\n",
      "b'<a href=\"http://www.google.fr\">Google France</a>\\n\\n            '\n"
     ]
    }
   ],
   "source": [
    "elems = html.cssselect(\"a[href*=google]\")\n",
    "print(elems,\"\\n\")\n",
    "for elem in elems:\n",
    "    print(etree.tostring(elem))"
   ]
  },
  {
   "cell_type": "markdown",
   "id": "5098dcd0",
   "metadata": {},
   "source": [
    "### selecting elements by positions:"
   ]
  },
  {
   "cell_type": "markdown",
   "id": "6004ddbe",
   "metadata": {},
   "source": [
    "what if we want a all the \"p\" tags inside the div tag with class=\"intro\"\n",
    "\n",
    "```html\n",
    "<div class=\"intro\">\n",
    "    <p>\n",
    "        I'm paragraph within a div with a class set to intro\n",
    "    <span id=\"location\">I'm a span with ID set to location and i'm within a paragraph</span>\n",
    "    </p>\n",
    "    <p id=\"outside\">I'm a paragraph with ID set to outside and i'm within a div with a class set to intro</p>\n",
    "</div>\n",
    "```"
   ]
  },
  {
   "cell_type": "code",
   "execution_count": 15,
   "id": "326fd2a8",
   "metadata": {},
   "outputs": [
    {
     "name": "stdout",
     "output_type": "stream",
     "text": [
      "[<Element p at 0x111163f05c8>, <Element p at 0x111163f0688>]\n",
      "------------------------------\n",
      "\n",
      "                    I'm paragraph within a div with a class set to intro\n",
      "                    \n",
      "------------------------------\n",
      "I'm a paragraph with ID set to outside and i'm within a div with a class set to intro\n",
      "------------------------------\n"
     ]
    }
   ],
   "source": [
    "elems = html.cssselect(\"div.intro p\")\n",
    "print(elems)\n",
    "print(\"-\"*30)\n",
    "\n",
    "for elem in elems:\n",
    "    print(elem.text)\n",
    "#     print(etree.tostring(elem))\n",
    "    print(\"-\"*30)"
   ]
  },
  {
   "cell_type": "markdown",
   "id": "1137e11c",
   "metadata": {},
   "source": [
    "Here the span is not selected which is inside the p tag. We can specify other tags for example span here to be selected like this:"
   ]
  },
  {
   "cell_type": "code",
   "execution_count": 16,
   "id": "82dc6cf3",
   "metadata": {},
   "outputs": [
    {
     "name": "stdout",
     "output_type": "stream",
     "text": [
      "[<Element p at 0x111163f05c8>, <Element span at 0x111163f0808>, <Element p at 0x111163f0688>]\n",
      "------------------------------\n",
      "\n",
      "                    I'm paragraph within a div with a class set to intro\n",
      "                    \n",
      "------------------------------\n",
      "I'm a span with ID set to location and i'm within a paragraph\n",
      "------------------------------\n",
      "I'm a paragraph with ID set to outside and i'm within a div with a class set to intro\n",
      "------------------------------\n"
     ]
    }
   ],
   "source": [
    "elems = html.cssselect(\"div.intro p, span#location\")\n",
    "print(elems)\n",
    "print(\"-\"*30)\n",
    "\n",
    "for elem in elems:\n",
    "    print(elem.text)\n",
    "#     print(etree.tostring(elem))\n",
    "    print(\"-\"*30)"
   ]
  },
  {
   "cell_type": "markdown",
   "id": "aed32dcd",
   "metadata": {},
   "source": [
    "Alternatively we can specify the direct children symbol \">\", which will give the same result. This will return the direct children of the parent tag.\n",
    "\n",
    "To select element placed immediately after a tag, we use + symbol:"
   ]
  },
  {
   "cell_type": "code",
   "execution_count": 17,
   "id": "8a6cce13",
   "metadata": {},
   "outputs": [
    {
     "name": "stdout",
     "output_type": "stream",
     "text": [
      "[<Element p at 0x111163f0bc8>]\n",
      "------------------------------\n",
      "Hi i'm placed immediately after a div with a class set to intro\n",
      "------------------------------\n"
     ]
    }
   ],
   "source": [
    "elems = html.cssselect(\"div.intro + p\")\n",
    "print(elems)\n",
    "print(\"-\"*30)\n",
    "\n",
    "for elem in elems:\n",
    "    print(elem.text)\n",
    "#     print(etree.tostring(elem))\n",
    "    print(\"-\"*30)"
   ]
  },
  {
   "cell_type": "markdown",
   "id": "541dd550",
   "metadata": {},
   "source": [
    "Alternatively, if we want to select elements after an element that are not immediately placed after it:"
   ]
  },
  {
   "cell_type": "code",
   "execution_count": 18,
   "id": "3f9b1681",
   "metadata": {},
   "outputs": [
    {
     "name": "stdout",
     "output_type": "stream",
     "text": [
      "[<Element p at 0x111163f0bc8>, <Element p at 0x111163e8088>, <Element p at 0x111163e80c8>]\n",
      "------------------------------\n",
      "Hi i'm placed immediately after a div with a class set to intro\n",
      "------------------------------\n",
      "Hi, I have two classes\n",
      "------------------------------\n",
      "Hi i'm bold\n",
      "------------------------------\n"
     ]
    }
   ],
   "source": [
    "elems = html.cssselect(\"div.intro ~ p\")\n",
    "print(elems)\n",
    "print(\"-\"*30)\n",
    "\n",
    "for elem in elems:\n",
    "    print(elem.text)\n",
    "#     print(etree.tostring(elem))\n",
    "    print(\"-\"*30)"
   ]
  },
  {
   "cell_type": "markdown",
   "id": "bdbb5c12",
   "metadata": {},
   "source": [
    "**Selecting list items by their index:**"
   ]
  },
  {
   "cell_type": "code",
   "execution_count": 19,
   "id": "b8a2fcc4",
   "metadata": {},
   "outputs": [
    {
     "data": {
      "text/plain": [
       "'Item 1'"
      ]
     },
     "execution_count": 19,
     "metadata": {},
     "output_type": "execute_result"
    }
   ],
   "source": [
    "elems = html.cssselect(\"li:nth-child(1)\")\n",
    "elems[0].text"
   ]
  },
  {
   "cell_type": "markdown",
   "id": "bfb7367c",
   "metadata": {},
   "source": [
    "Selecting two or more:"
   ]
  },
  {
   "cell_type": "code",
   "execution_count": 20,
   "id": "cba002ab",
   "metadata": {},
   "outputs": [
    {
     "name": "stdout",
     "output_type": "stream",
     "text": [
      "Item 1\n",
      "Item 3\n"
     ]
    }
   ],
   "source": [
    "elems = html.cssselect(\"li:nth-child(1),li:nth-child(3)\")\n",
    "for e in elems:\n",
    "    print(e.text)"
   ]
  },
  {
   "cell_type": "markdown",
   "id": "ad6d8cb5",
   "metadata": {},
   "source": [
    "Selecting only odd rows:"
   ]
  },
  {
   "cell_type": "code",
   "execution_count": 21,
   "id": "ad5e3eba",
   "metadata": {},
   "outputs": [
    {
     "name": "stdout",
     "output_type": "stream",
     "text": [
      "Item 1\n",
      "Item 3\n"
     ]
    }
   ],
   "source": [
    "elems = html.cssselect(\"li:nth-child(odd)\")\n",
    "for e in elems:\n",
    "    print(e.text)"
   ]
  },
  {
   "cell_type": "markdown",
   "id": "e0f80aa2",
   "metadata": {},
   "source": [
    "Similarly, selecting only even rows:"
   ]
  },
  {
   "cell_type": "code",
   "execution_count": 22,
   "id": "38b0bae5",
   "metadata": {},
   "outputs": [
    {
     "name": "stdout",
     "output_type": "stream",
     "text": [
      "Item 2\n",
      "Item 4\n"
     ]
    }
   ],
   "source": [
    "elems = html.cssselect(\"li:nth-child(even)\")\n",
    "for e in elems:\n",
    "    print(e.text)"
   ]
  },
  {
   "cell_type": "markdown",
   "id": "d9e8e498",
   "metadata": {},
   "source": [
    "## Fundamentals of xpath selectors"
   ]
  },
  {
   "cell_type": "code",
   "execution_count": 23,
   "id": "23ecb08e",
   "metadata": {},
   "outputs": [
    {
     "data": {
      "text/plain": [
       "<lxml.etree._ElementTree at 0x111163e8648>"
      ]
     },
     "execution_count": 23,
     "metadata": {},
     "output_type": "execute_result"
    }
   ],
   "source": [
    "tree = etree.parse(\"code2.html\")\n",
    "tree"
   ]
  },
  {
   "cell_type": "markdown",
   "id": "5f3eab41",
   "metadata": {},
   "source": [
    "selecting header:"
   ]
  },
  {
   "cell_type": "code",
   "execution_count": 24,
   "id": "35669307",
   "metadata": {},
   "outputs": [
    {
     "name": "stdout",
     "output_type": "stream",
     "text": [
      "[<Element h1 at 0x111163f01c8>]\n"
     ]
    },
    {
     "data": {
      "text/plain": [
       "'XPath Selectors simplified'"
      ]
     },
     "execution_count": 24,
     "metadata": {},
     "output_type": "execute_result"
    }
   ],
   "source": [
    "elems = tree.xpath(\"//h1\")\n",
    "print(elems)\n",
    "elems[0].text"
   ]
  },
  {
   "cell_type": "markdown",
   "id": "28eb3867",
   "metadata": {},
   "source": [
    "Now let's say we want all the ```<p>``` tags inside a particular ```<div>``` tag:\n",
    "\n",
    "```html\n",
    "<div class=\"intro\">\n",
    "    <p>\n",
    "        I'm paragraph within a div with a class set to intro\n",
    "        <span id=\"location\">I'm a span with ID set to location and i'm within a paragraph</span>\n",
    "    </p>\n",
    "    <p id=\"outside\">I'm a paragraph with ID set to outside and i'm within a div with a class set to intro</p>\n",
    "</div>\n",
    "\n",
    "<div class=\"outro\">\n",
    "    <p id=\"unique\">I'm in a div with a class attribute set to outro</p>\n",
    "</div>\n",
    "```"
   ]
  },
  {
   "cell_type": "code",
   "execution_count": 25,
   "id": "6f00abb4",
   "metadata": {},
   "outputs": [
    {
     "name": "stdout",
     "output_type": "stream",
     "text": [
      "I'm paragraph within a div with a class set to intro\n",
      "\n",
      "I'm a paragraph with ID set to outside and i'm within a div with a class set to intro\n"
     ]
    }
   ],
   "source": [
    "elems = tree.xpath(\"//div[@class='intro']/p/text()\")\n",
    "for e in elems:\n",
    "    print(e.strip())"
   ]
  },
  {
   "cell_type": "markdown",
   "id": "0cb4571c",
   "metadata": {},
   "source": [
    "And suppose we want ```<p>``` tags from both the ```<div>``` tags:"
   ]
  },
  {
   "cell_type": "code",
   "execution_count": 26,
   "id": "dd84e671",
   "metadata": {},
   "outputs": [
    {
     "name": "stdout",
     "output_type": "stream",
     "text": [
      "I'm paragraph within a div with a class set to intro\n",
      "\n",
      "I'm a paragraph with ID set to outside and i'm within a div with a class set to intro\n",
      "I'm in a div with a class attribute set to outro\n"
     ]
    }
   ],
   "source": [
    "elems = tree.xpath(\"//div[@class='intro' or @class='outro']/p/text()\")\n",
    "for e in elems:\n",
    "    print(e.strip())"
   ]
  },
  {
   "cell_type": "markdown",
   "id": "56dbcddb",
   "metadata": {},
   "source": [
    "To get the value of attributes inside a tag:"
   ]
  },
  {
   "cell_type": "code",
   "execution_count": 27,
   "id": "4a7a502d",
   "metadata": {},
   "outputs": [
    {
     "name": "stdout",
     "output_type": "stream",
     "text": [
      "https://www.google.com\n",
      "http://www.google.fr\n"
     ]
    }
   ],
   "source": [
    "elems = tree.xpath(\"//a/@href\")\n",
    "for e in elems:\n",
    "    print(e.strip())"
   ]
  },
  {
   "cell_type": "markdown",
   "id": "160909a3",
   "metadata": {},
   "source": [
    "Suppose we want ```<a>``` tag with attribute starting with ```https```:"
   ]
  },
  {
   "cell_type": "code",
   "execution_count": 28,
   "id": "60bb0ccd",
   "metadata": {},
   "outputs": [
    {
     "name": "stdout",
     "output_type": "stream",
     "text": [
      "[<Element a at 0x111163e8b48>]\n",
      "Google\n"
     ]
    }
   ],
   "source": [
    "elems = tree.xpath(\"//a[starts-with(@href,'https')]\")\n",
    "print(elems)\n",
    "for e in elems:\n",
    "    print(e.text)"
   ]
  },
  {
   "cell_type": "markdown",
   "id": "66f8ec8a",
   "metadata": {},
   "source": [
    "**Suppose we want ```<a>``` tag with attribute ending with ```fr```:**\n",
    "\n",
    "Using ```ends-with``` function will throw an error. Because this function is not present in xpath 1.0, it is in xpath 2.0.\n",
    "\n",
    "```python\n",
    "elems = tree.xpath(\"//a[ends-with(@href,'fr')]\")\n",
    "print(elems)\n",
    "for e in elems:\n",
    "    print(e.text)\n",
    "    \n",
    "XPathEvalError: Unregistered function\n",
    "```\n",
    "And lxml library only supports xpath 1.0 version. Also google chrome supports xpath 1.0 version.\n",
    "\n",
    "\n",
    "Now lets look at the tags containing some string value in their attributes using ```contains()``` function:"
   ]
  },
  {
   "cell_type": "code",
   "execution_count": 29,
   "id": "13132044",
   "metadata": {},
   "outputs": [
    {
     "name": "stdout",
     "output_type": "stream",
     "text": [
      "[<Element a at 0x111163e8b48>, <Element a at 0x111162b1208>]\n",
      "Google\n",
      "Google France\n"
     ]
    }
   ],
   "source": [
    "elems = tree.xpath(\"//a[contains(@href,'google')]\")\n",
    "print(elems)\n",
    "for e in elems:\n",
    "    print(e.text)"
   ]
  },
  {
   "cell_type": "markdown",
   "id": "30cc6ba4",
   "metadata": {},
   "source": [
    "Tags containing some value as text inside:"
   ]
  },
  {
   "cell_type": "code",
   "execution_count": 30,
   "id": "8dc74278",
   "metadata": {},
   "outputs": [
    {
     "name": "stdout",
     "output_type": "stream",
     "text": [
      "[<Element a at 0x111162b1208>]\n",
      "Google France\n"
     ]
    }
   ],
   "source": [
    "elems = tree.xpath(\"//a[contains(text(),'France')]\")\n",
    "print(elems)\n",
    "for e in elems:\n",
    "    print(e.text)"
   ]
  },
  {
   "cell_type": "markdown",
   "id": "d80ab825",
   "metadata": {},
   "source": [
    "**Note:** the text value is case sensitive\n",
    "\n",
    "\n",
    "Now selecting elements by position usign xpath:"
   ]
  },
  {
   "cell_type": "code",
   "execution_count": 31,
   "id": "092b22c4",
   "metadata": {},
   "outputs": [
    {
     "name": "stdout",
     "output_type": "stream",
     "text": [
      "[<Element li at 0x111163e8c48>, <Element li at 0x111163e8348>, <Element li at 0x111163e84c8>, <Element li at 0x111163e8ac8>]\n",
      "Item 1\n",
      "Item 2\n",
      "Item 3\n",
      "Item 4\n"
     ]
    }
   ],
   "source": [
    "elems = tree.xpath(\"//ul[@id='items']/li\")\n",
    "print(elems)\n",
    "for e in elems:\n",
    "    print(e.text)"
   ]
  },
  {
   "cell_type": "code",
   "execution_count": 32,
   "id": "7334e7b7",
   "metadata": {},
   "outputs": [
    {
     "name": "stdout",
     "output_type": "stream",
     "text": [
      "[<Element li at 0x111163e8c48>]\n",
      "Item 1\n"
     ]
    }
   ],
   "source": [
    "elems = tree.xpath(\"//ul[@id='items']/li[1]\")\n",
    "print(elems)\n",
    "for e in elems:\n",
    "    print(e.text)"
   ]
  },
  {
   "cell_type": "code",
   "execution_count": 33,
   "id": "9f753520",
   "metadata": {},
   "outputs": [
    {
     "name": "stdout",
     "output_type": "stream",
     "text": [
      "[<Element li at 0x111163e8c48>, <Element li at 0x111163e8d08>]\n",
      "Item 1\n",
      "Item 4\n"
     ]
    }
   ],
   "source": [
    "elems = tree.xpath(\"//ul[@id='items']/li[position()=1 or position()=4]\")\n",
    "print(elems)\n",
    "for e in elems:\n",
    "    print(e.text)"
   ]
  },
  {
   "cell_type": "code",
   "execution_count": 63,
   "id": "05c07fe8",
   "metadata": {},
   "outputs": [
    {
     "name": "stdout",
     "output_type": "stream",
     "text": [
      "[<Element li at 0x1111647d188>, <Element li at 0x1111647d048>, <Element li at 0x111163e8d08>]\n",
      "Item 2\n",
      "Item 3\n",
      "Item 4\n"
     ]
    }
   ],
   "source": [
    "elems = tree.xpath(\"//ul[@id='items']/li[position()>1]\")\n",
    "print(elems)\n",
    "for e in elems:\n",
    "    print(e.text)"
   ]
  },
  {
   "cell_type": "markdown",
   "id": "e0b152ce",
   "metadata": {},
   "source": [
    "## Xpath Axes"
   ]
  },
  {
   "cell_type": "markdown",
   "id": "7fd668ba",
   "metadata": {},
   "source": [
    "### Navigating using xpath selectors (going up)\n",
    "\n",
    "**These are also down as xpath axes**:\n",
    "\n",
    "for going down, these axes will be covered in this sections:\n",
    "- parent\n",
    "- ancestor\n",
    "- preceding\n",
    "- preceding-sibling\n",
    "\n",
    "Sometimes we might want to return the parent element from the child element.\n",
    "\n",
    "Suppose we want to know the parent node from the ```<p>``` element:\n",
    "\n",
    "```html\n",
    "<div class=\"outro\">\n",
    "    <p id=\"unique\">I'm in a div with a class attribute set to outro</p>\n",
    "</div>\n",
    "```"
   ]
  },
  {
   "cell_type": "code",
   "execution_count": 62,
   "id": "3a1ea156",
   "metadata": {},
   "outputs": [
    {
     "name": "stdout",
     "output_type": "stream",
     "text": [
      "[<Element div at 0x111163e8dc8>]\n"
     ]
    }
   ],
   "source": [
    "parent = tree.xpath(\"//p[@id='unique']/parent::div\")\n",
    "print(parent)"
   ]
  },
  {
   "cell_type": "markdown",
   "id": "3cd618cf",
   "metadata": {},
   "source": [
    "sometimes we might not know what is the parent element is. In that case we can write ```node()``` function:"
   ]
  },
  {
   "cell_type": "code",
   "execution_count": 36,
   "id": "50a24889",
   "metadata": {},
   "outputs": [
    {
     "name": "stdout",
     "output_type": "stream",
     "text": [
      "[<Element div at 0x111163e8dc8>]\n"
     ]
    }
   ],
   "source": [
    "parent = tree.xpath(\"//p[@id='unique']/parent::node()\")\n",
    "print(parent)"
   ]
  },
  {
   "cell_type": "markdown",
   "id": "80843bbe",
   "metadata": {},
   "source": [
    "We can also get the html tags that are above the current child tad by using ```ancester```:\n",
    "\n",
    "This will return the parent as well as the grand parent's node and so on..."
   ]
  },
  {
   "cell_type": "code",
   "execution_count": 61,
   "id": "1e2afe73",
   "metadata": {},
   "outputs": [
    {
     "name": "stdout",
     "output_type": "stream",
     "text": [
      "<Element html at 0x111163e86c8>\n",
      "<Element body at 0x111163e8ec8>\n",
      "<Element div at 0x111163e8dc8>\n"
     ]
    },
    {
     "data": {
      "text/plain": [
       "[None, None, None]"
      ]
     },
     "execution_count": 61,
     "metadata": {},
     "output_type": "execute_result"
    }
   ],
   "source": [
    "parent = tree.xpath(\"//p[@id='unique']/ancestor::node()\")\n",
    "[print(x) for x in parent]"
   ]
  },
  {
   "cell_type": "markdown",
   "id": "10f91fdb",
   "metadata": {},
   "source": [
    "we get the tags that are all above the current tag. Also if we want to include the child element:"
   ]
  },
  {
   "cell_type": "code",
   "execution_count": 39,
   "id": "bfabbe61",
   "metadata": {},
   "outputs": [
    {
     "name": "stdout",
     "output_type": "stream",
     "text": [
      "<Element html at 0x111163e86c8>\n",
      "<Element body at 0x111163e8ec8>\n",
      "<Element div at 0x111163e8dc8>\n",
      "<Element p at 0x111163e8e48>\n"
     ]
    },
    {
     "data": {
      "text/plain": [
       "[None, None, None, None]"
      ]
     },
     "execution_count": 39,
     "metadata": {},
     "output_type": "execute_result"
    }
   ],
   "source": [
    "parent = tree.xpath(\"//p[@id='unique']/ancestor-or-self::node()\")\n",
    "[print(x) for x in parent]"
   ]
  },
  {
   "cell_type": "markdown",
   "id": "8eeb989e",
   "metadata": {},
   "source": [
    "There is another tag called ```preceding```:"
   ]
  },
  {
   "cell_type": "code",
   "execution_count": 60,
   "id": "d04c0c8c",
   "metadata": {},
   "outputs": [
    {
     "name": "stdout",
     "output_type": "stream",
     "text": [
      "\n",
      "        \n",
      "<Element head at 0x111163f01c8>\n",
      "\n",
      "            \n",
      "<Element title at 0x111163e8888>\n",
      "XPath and CSS Selectors\n",
      "\n",
      "        \n",
      "\n",
      "        \n",
      "\n",
      "            \n",
      "<Element h1 at 0x11116400108>\n",
      "XPath Selectors simplified\n",
      "\n",
      "\n",
      "            \n",
      "<Element div at 0x11116400288>\n",
      "\n",
      "                \n",
      "<Element p at 0x11116400188>\n",
      "\n",
      "                    I'm paragraph within a div with a class set to intro\n",
      "                    \n",
      "<Element span at 0x111164002c8>\n",
      "I'm a span with ID set to location and i'm within a paragraph\n",
      "\n",
      "                \n",
      "\n",
      "                \n",
      "<Element p at 0x111164003c8>\n",
      "I'm a paragraph with ID set to outside and i'm within a div with a class set to intro\n",
      "\n",
      "            \n",
      "\n",
      "\n",
      "            \n",
      "\n",
      "                \n"
     ]
    }
   ],
   "source": [
    "parent = tree.xpath(\"//p[@id='unique']/preceding::node()\")\n",
    "y = [print(x) for x in parent]"
   ]
  },
  {
   "cell_type": "markdown",
   "id": "38f0e0c3",
   "metadata": {},
   "source": [
    "This returns all the html elements except for the ancestors"
   ]
  },
  {
   "cell_type": "markdown",
   "id": "d313356d",
   "metadata": {},
   "source": [
    "There is another one called ```preceding-sibling``` tag. That returns the previous sibling having the same parent:\n",
    "\n",
    "for example:\n",
    "\n",
    "```html\n",
    "<div class=\"intro\">\n",
    "    <p>\n",
    "        I'm paragraph within a div with a class set to intro\n",
    "        <span id=\"location\">I'm a span with ID set to location and i'm within a paragraph</span>\n",
    "    </p>\n",
    "    <p id=\"outside\">I'm a paragraph with ID set to outside and i'm within a div with a class set to intro</p>\n",
    "</div>\n",
    "```\n",
    "\n",
    "here the two ```<p>``` tags share the same parent. We can get the preceding ```<p>``` tag from the latter one by:"
   ]
  },
  {
   "cell_type": "code",
   "execution_count": 55,
   "id": "df6fa161",
   "metadata": {},
   "outputs": [
    {
     "name": "stdout",
     "output_type": "stream",
     "text": [
      "<Element p at 0x11116400188>\n",
      "I'm paragraph within a div with a class set to intro\n"
     ]
    }
   ],
   "source": [
    "elem = tree.xpath(\"//p[@id='outside']/preceding-sibling::node()\")\n",
    "for x in elem:\n",
    "    if type(x) is etree._Element:\n",
    "        print(x)\n",
    "        print(x.text.strip())"
   ]
  },
  {
   "cell_type": "markdown",
   "id": "9e8e908c",
   "metadata": {},
   "source": [
    "## Navigating using xpath (going down)\n",
    "\n",
    "**These are also down as xpath axes**:\n",
    "\n",
    "for going down, these axes will be covered in this sections:\n",
    "- child\n",
    "- following\n",
    "- following-sibling\n",
    "- descendant\n",
    "\n",
    "navigating down is quite straight forward which we have been doing from the first xpath i.e.:\n",
    "\n",
    "```python\n",
    "tree.xpath(\"//div[@class='intro']/p\")\n",
    "```\n",
    "\n",
    "alternatively we can call the following tags by using ```child```:\n"
   ]
  },
  {
   "cell_type": "code",
   "execution_count": 64,
   "id": "05316d3f",
   "metadata": {},
   "outputs": [
    {
     "data": {
      "text/plain": [
       "['\\n                ',\n",
       " <Element p at 0x11116400188>,\n",
       " '\\n                ',\n",
       " <Element p at 0x111164003c8>,\n",
       " '\\n            ']"
      ]
     },
     "execution_count": 64,
     "metadata": {},
     "output_type": "execute_result"
    }
   ],
   "source": [
    "elems = tree.xpath(\"//div[@class='intro']/child::node()\")\n",
    "elems"
   ]
  },
  {
   "cell_type": "markdown",
   "id": "aeba4f6a",
   "metadata": {},
   "source": [
    "If we want all the elements following a closing html tag, we can use ```following```:"
   ]
  },
  {
   "cell_type": "code",
   "execution_count": 58,
   "id": "577de6ca",
   "metadata": {},
   "outputs": [
    {
     "data": {
      "text/plain": [
       "['\\n\\n            ',\n",
       " <Element div at 0x111163e8dc8>,\n",
       " '\\n                ',\n",
       " <Element p at 0x111162b6548>,\n",
       " \"I'm in a div with a class attribute set to outro\",\n",
       " '\\n            ',\n",
       " '\\n\\n            ',\n",
       " <Element p at 0x1111644ae88>,\n",
       " \"Hi i'm placed immediately after a div\",\n",
       " '\\n            \\n            ',\n",
       " <Element span at 0x1111644afc8>,\n",
       " 'Div with a class attribute set to intro',\n",
       " '\\n\\n            ',\n",
       " <Element ul at 0x1111644af08>,\n",
       " '\\n                ',\n",
       " <Element li at 0x1111644a6c8>,\n",
       " 'Item 1',\n",
       " '\\n                ',\n",
       " <Element li at 0x1111647d188>,\n",
       " 'Item 2',\n",
       " '\\n                ',\n",
       " <Element li at 0x1111647d048>,\n",
       " 'Item 3',\n",
       " '\\n                ',\n",
       " <Element li at 0x111163e8d08>,\n",
       " 'Item 4',\n",
       " '\\n            ',\n",
       " '\\n\\n            ',\n",
       " <Element a at 0x1111647d248>,\n",
       " 'Google',\n",
       " '\\n            ',\n",
       " <Element a at 0x1111647d288>,\n",
       " 'Google France',\n",
       " '\\n        ',\n",
       " '\\n    ']"
      ]
     },
     "execution_count": 58,
     "metadata": {},
     "output_type": "execute_result"
    }
   ],
   "source": [
    "elems = tree.xpath(\"//div[@class='intro']/following::node()\")\n",
    "elems"
   ]
  },
  {
   "cell_type": "markdown",
   "id": "7a5b489d",
   "metadata": {},
   "source": [
    "Also we can get the html tags that share the same parent and follows a particular tag:"
   ]
  },
  {
   "cell_type": "code",
   "execution_count": 59,
   "id": "bc8328e6",
   "metadata": {},
   "outputs": [
    {
     "data": {
      "text/plain": [
       "['\\n\\n            ',\n",
       " <Element div at 0x111163e8dc8>,\n",
       " '\\n\\n            ',\n",
       " <Element p at 0x1111644ae88>,\n",
       " '\\n            \\n            ',\n",
       " <Element span at 0x1111644afc8>,\n",
       " '\\n\\n            ',\n",
       " <Element ul at 0x1111644af08>,\n",
       " '\\n\\n            ',\n",
       " <Element a at 0x1111647d248>,\n",
       " '\\n            ',\n",
       " <Element a at 0x1111647d288>,\n",
       " '\\n        ']"
      ]
     },
     "execution_count": 59,
     "metadata": {},
     "output_type": "execute_result"
    }
   ],
   "source": [
    "elems = tree.xpath(\"//div[@class='intro']/following-sibling::node()\")\n",
    "elems"
   ]
  },
  {
   "cell_type": "markdown",
   "id": "358dba10",
   "metadata": {},
   "source": [
    "To get the children of children of a parent html tag, we use ```descendant```:"
   ]
  },
  {
   "cell_type": "code",
   "execution_count": 65,
   "id": "dbb21a09",
   "metadata": {},
   "outputs": [
    {
     "data": {
      "text/plain": [
       "['\\n                ',\n",
       " <Element p at 0x11116400188>,\n",
       " \"\\n                    I'm paragraph within a div with a class set to intro\\n                    \",\n",
       " <Element span at 0x11116268108>,\n",
       " \"I'm a span with ID set to location and i'm within a paragraph\",\n",
       " '\\n                ',\n",
       " '\\n                ',\n",
       " <Element p at 0x111164003c8>,\n",
       " \"I'm a paragraph with ID set to outside and i'm within a div with a class set to intro\",\n",
       " '\\n            ']"
      ]
     },
     "execution_count": 65,
     "metadata": {},
     "output_type": "execute_result"
    }
   ],
   "source": [
    "elems = tree.xpath(\"//div[@class='intro']/descendant::node()\")\n",
    "elems"
   ]
  }
 ],
 "metadata": {
  "kernelspec": {
   "display_name": "Python 3",
   "language": "python",
   "name": "python3"
  },
  "language_info": {
   "codemirror_mode": {
    "name": "ipython",
    "version": 3
   },
   "file_extension": ".py",
   "mimetype": "text/x-python",
   "name": "python",
   "nbconvert_exporter": "python",
   "pygments_lexer": "ipython3",
   "version": "3.6.13"
  }
 },
 "nbformat": 4,
 "nbformat_minor": 5
}
