{
 "cells": [
  {
   "cell_type": "code",
   "execution_count": 2,
   "id": "cc0189a1",
   "metadata": {},
   "outputs": [],
   "source": [
    "from lxml import etree"
   ]
  },
  {
   "cell_type": "markdown",
   "id": "63aeb0d3",
   "metadata": {},
   "source": [
    "## Element tree object"
   ]
  },
  {
   "cell_type": "code",
   "execution_count": 3,
   "id": "ecf3bd8c",
   "metadata": {},
   "outputs": [
    {
     "data": {
      "text/plain": [
       "<lxml.etree._ElementTree at 0x19c8b3d8f48>"
      ]
     },
     "execution_count": 3,
     "metadata": {},
     "output_type": "execute_result"
    }
   ],
   "source": [
    "html_file = \"src\\\\web_page.html\"\n",
    "tree = etree.parse(html_file)\n",
    "tree"
   ]
  },
  {
   "cell_type": "markdown",
   "id": "96b4c87f",
   "metadata": {},
   "source": [
    "This particular file reads the html file and converts it into a tree structure like this: \n",
    "\n",
    "![](https://www.researchgate.net/profile/Antanas-Cenys/publication/266611108/figure/fig10/AS:668860244045832@1536480117529/HTML-source-code-represented-as-tree-structure.png)\n",
    "\n",
    "To get the html code of the web page, we can call the tostring method of etree object of lxml:"
   ]
  },
  {
   "cell_type": "code",
   "execution_count": 4,
   "id": "4dd1b553",
   "metadata": {},
   "outputs": [
    {
     "data": {
      "text/plain": [
       "b'<html lang=\"en\">\\n\\n<head>\\n    <title>This is the title</title>\\n</head>\\n\\n<body>\\n    <p>Hello World</p>\\n    <ul>\\n        <li id=\"myID\">Web Scraping with Python using Requests, LXML and Splash</li>\\n        <li class=\"myClass\">Created by:\\n            <a href=\"https://twitter.com/AhmedRafik__\">Ahmed Rafik</a>\\n        </li>\\n    </ul>\\n</body>\\n\\n</html>'"
      ]
     },
     "execution_count": 4,
     "metadata": {},
     "output_type": "execute_result"
    }
   ],
   "source": [
    "etree.tostring(tree)"
   ]
  },
  {
   "cell_type": "markdown",
   "id": "33ec4f92",
   "metadata": {},
   "source": [
    "This returns the html code of the webpage"
   ]
  },
  {
   "cell_type": "markdown",
   "id": "d5538131",
   "metadata": {},
   "source": [
    "## Element object"
   ]
  },
  {
   "cell_type": "code",
   "execution_count": 5,
   "id": "88bd1022",
   "metadata": {
    "scrolled": true
   },
   "outputs": [
    {
     "name": "stdout",
     "output_type": "stream",
     "text": [
      "<Element title at 0x19c8b587d88>\n"
     ]
    }
   ],
   "source": [
    "title = tree.find('head/title')\n",
    "print(title)"
   ]
  },
  {
   "cell_type": "markdown",
   "id": "6e823a96",
   "metadata": {},
   "source": [
    "Returns a element object of tag title. Now if we want the text inside it we call the text method:"
   ]
  },
  {
   "cell_type": "code",
   "execution_count": 6,
   "id": "1d6700bf",
   "metadata": {},
   "outputs": [
    {
     "data": {
      "text/plain": [
       "'This is the title'"
      ]
     },
     "execution_count": 6,
     "metadata": {},
     "output_type": "execute_result"
    }
   ],
   "source": [
    "title.text"
   ]
  },
  {
   "cell_type": "code",
   "execution_count": 7,
   "id": "cf2b6771",
   "metadata": {},
   "outputs": [
    {
     "data": {
      "text/plain": [
       "'Hello World'"
      ]
     },
     "execution_count": 7,
     "metadata": {},
     "output_type": "execute_result"
    }
   ],
   "source": [
    "tree.find(\"body/p\").text"
   ]
  },
  {
   "cell_type": "code",
   "execution_count": 8,
   "id": "e277632b",
   "metadata": {},
   "outputs": [
    {
     "name": "stdout",
     "output_type": "stream",
     "text": [
      "[<Element li at 0x19c8b5a60c8>, <Element li at 0x19c8b5a6108>]\n"
     ]
    }
   ],
   "source": [
    "list_items = tree.findall(\"body/ul/li\")\n",
    "print(list_items)"
   ]
  },
  {
   "cell_type": "code",
   "execution_count": 9,
   "id": "936eff80",
   "metadata": {},
   "outputs": [
    {
     "name": "stdout",
     "output_type": "stream",
     "text": [
      "Web Scraping with Python using Requests, LXML and Splash\n",
      "Created by:Ahmed Rafik\n"
     ]
    }
   ],
   "source": [
    "for li in list_items:\n",
    "    a = li.find(\"a\")\n",
    "    if a is not None:\n",
    "        print(li.text.strip() + a.text)\n",
    "    else:\n",
    "        print(li.text)"
   ]
  },
  {
   "cell_type": "markdown",
   "id": "0c51cc55",
   "metadata": {},
   "source": [
    "## Introduction to lxml with xpath\n",
    "\n",
    "the xpath method works as findall method, returns a list"
   ]
  },
  {
   "cell_type": "code",
   "execution_count": 10,
   "id": "1e2e03b6",
   "metadata": {},
   "outputs": [
    {
     "data": {
      "text/plain": [
       "'This is the title'"
      ]
     },
     "execution_count": 10,
     "metadata": {},
     "output_type": "execute_result"
    }
   ],
   "source": [
    "title = tree.xpath(\"//title/text()\")[0]\n",
    "title"
   ]
  },
  {
   "cell_type": "code",
   "execution_count": 11,
   "id": "0b0fddae",
   "metadata": {},
   "outputs": [
    {
     "data": {
      "text/plain": [
       "'Hello World'"
      ]
     },
     "execution_count": 11,
     "metadata": {},
     "output_type": "execute_result"
    }
   ],
   "source": [
    "para = tree.xpath(\"//p/text()\")[0]\n",
    "para"
   ]
  },
  {
   "cell_type": "code",
   "execution_count": 12,
   "id": "e1894927",
   "metadata": {},
   "outputs": [
    {
     "name": "stdout",
     "output_type": "stream",
     "text": [
      "Web Scraping with Python using Requests, LXML and Splash\n",
      "Created by:Ahmed Rafik\n"
     ]
    }
   ],
   "source": [
    "list_items = tree.xpath(\"//body/ul/li\")\n",
    "for li in list_items:\n",
    "    a = li.xpath(\"a\")\n",
    "    if len(a)>0:\n",
    "        print(li.text.strip()+a[0].text)\n",
    "    else:\n",
    "        print(li.text)"
   ]
  },
  {
   "cell_type": "code",
   "execution_count": 13,
   "id": "2fcaee92",
   "metadata": {},
   "outputs": [
    {
     "name": "stdout",
     "output_type": "stream",
     "text": [
      "Web Scraping with Python using Requests, LXML and Splash\n",
      "Created by:Ahmed Rafik\n"
     ]
    }
   ],
   "source": [
    "list_items = tree.xpath(\"//body/ul/li\")\n",
    "for li in list_items:\n",
    "    text= \"\".join(map(str.strip,li.xpath(\".//text()\")))\n",
    "    print(text)"
   ]
  },
  {
   "cell_type": "markdown",
   "id": "f43da60b",
   "metadata": {},
   "source": [
    "**Note**: Use a \".\" sign before any xpath xpression when calling xpath from an element"
   ]
  },
  {
   "cell_type": "markdown",
   "id": "cd15fd10",
   "metadata": {},
   "source": [
    "## Introduction to lxml with CSS selectors"
   ]
  },
  {
   "cell_type": "code",
   "execution_count": 15,
   "id": "ec916514",
   "metadata": {},
   "outputs": [
    {
     "data": {
      "text/plain": [
       "<lxml.etree._ElementTree at 0x19c8b3d8d48>"
      ]
     },
     "execution_count": 15,
     "metadata": {},
     "output_type": "execute_result"
    }
   ],
   "source": [
    "tree = etree.parse(\"src/web_page.html\")\n",
    "tree"
   ]
  },
  {
   "cell_type": "markdown",
   "id": "b999fe20",
   "metadata": {},
   "source": [
    "here tree is a element tree object, but the css selectors works with html objects only. We can get the html object by calling the \n",
    "```getroot()```"
   ]
  },
  {
   "cell_type": "code",
   "execution_count": 16,
   "id": "8478658a",
   "metadata": {},
   "outputs": [
    {
     "data": {
      "text/plain": [
       "<Element html at 0x19c8b4a1b48>"
      ]
     },
     "execution_count": 16,
     "metadata": {},
     "output_type": "execute_result"
    }
   ],
   "source": [
    "html = tree.getroot()\n",
    "html"
   ]
  },
  {
   "cell_type": "code",
   "execution_count": 20,
   "id": "02a8bf78",
   "metadata": {},
   "outputs": [
    {
     "data": {
      "text/plain": [
       "'This is the title'"
      ]
     },
     "execution_count": 20,
     "metadata": {},
     "output_type": "execute_result"
    }
   ],
   "source": [
    "title = html.cssselect(\"title\")[0]\n",
    "title.text"
   ]
  },
  {
   "cell_type": "code",
   "execution_count": 21,
   "id": "43879680",
   "metadata": {},
   "outputs": [
    {
     "data": {
      "text/plain": [
       "'Hello World'"
      ]
     },
     "execution_count": 21,
     "metadata": {},
     "output_type": "execute_result"
    }
   ],
   "source": [
    "para = html.cssselect(\"p\")[0]\n",
    "para.text"
   ]
  },
  {
   "cell_type": "code",
   "execution_count": 22,
   "id": "07950e83",
   "metadata": {},
   "outputs": [
    {
     "name": "stdout",
     "output_type": "stream",
     "text": [
      "[<Element li at 0x19c8b5a6048>, <Element li at 0x19c8b641b08>]\n"
     ]
    }
   ],
   "source": [
    "list_items = html.cssselect(\"li\")\n",
    "print(list_items)"
   ]
  },
  {
   "cell_type": "code",
   "execution_count": 24,
   "id": "473f36ba",
   "metadata": {},
   "outputs": [
    {
     "name": "stdout",
     "output_type": "stream",
     "text": [
      "Web Scraping with Python using Requests, LXML and Splash\n",
      "Created by:Ahmed Rafik\n"
     ]
    }
   ],
   "source": [
    "for li in list_items:\n",
    "    a = li.cssselect(\"a\")\n",
    "    if len(a)>0:\n",
    "        print(li.text.strip()+a[0].text)\n",
    "    else:\n",
    "        print(li.text)"
   ]
  }
 ],
 "metadata": {
  "kernelspec": {
   "display_name": "Python 3",
   "language": "python",
   "name": "python3"
  },
  "language_info": {
   "codemirror_mode": {
    "name": "ipython",
    "version": 3
   },
   "file_extension": ".py",
   "mimetype": "text/x-python",
   "name": "python",
   "nbconvert_exporter": "python",
   "pygments_lexer": "ipython3",
   "version": "3.6.13"
  }
 },
 "nbformat": 4,
 "nbformat_minor": 5
}
