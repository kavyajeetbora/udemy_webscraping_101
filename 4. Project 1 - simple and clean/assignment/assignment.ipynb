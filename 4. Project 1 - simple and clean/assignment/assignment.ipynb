{
 "cells": [
  {
   "cell_type": "code",
   "execution_count": 39,
   "id": "06a03ed6",
   "metadata": {},
   "outputs": [],
   "source": [
    "import requests\n",
    "from lxml import html\n",
    "import json\n",
    "from tqdm import tqdm"
   ]
  },
  {
   "cell_type": "code",
   "execution_count": 19,
   "id": "3a0fa4f8",
   "metadata": {},
   "outputs": [
    {
     "data": {
      "text/plain": [
       "<Response [200]>"
      ]
     },
     "execution_count": 19,
     "metadata": {},
     "output_type": "execute_result"
    }
   ],
   "source": [
    "response = requests.get(url=\"https://www.ebay.com/globaldeals/trending/all\",\n",
    "            headers={\"User-Agent\":\"Mozilla/5.0 (Windows NT 10.0; Win64; x64) AppleWebKit/537.36 (KHTML, like Gecko) Chrome/90.0.4430.85 Safari/537.36\"})\n",
    "response"
   ]
  },
  {
   "cell_type": "code",
   "execution_count": 20,
   "id": "b1ebe234",
   "metadata": {},
   "outputs": [
    {
     "data": {
      "text/plain": [
       "<Element html at 0x1c0d1bd2688>"
      ]
     },
     "execution_count": 20,
     "metadata": {},
     "output_type": "execute_result"
    }
   ],
   "source": [
    "tree = html.fromstring(response.text)\n",
    "tree"
   ]
  },
  {
   "cell_type": "code",
   "execution_count": 31,
   "id": "acebdab6",
   "metadata": {},
   "outputs": [
    {
     "data": {
      "text/plain": [
       "24"
      ]
     },
     "execution_count": 31,
     "metadata": {},
     "output_type": "execute_result"
    }
   ],
   "source": [
    "products = tree.xpath(\"//div[@class='dne-itemtile-detail']\")\n",
    "len(products)"
   ]
  },
  {
   "cell_type": "code",
   "execution_count": 35,
   "id": "1f9c6c3c",
   "metadata": {},
   "outputs": [
    {
     "data": {
      "text/plain": [
       "'Callaway HX Practice Golf Balls - 9 Pack - Orange'"
      ]
     },
     "execution_count": 35,
     "metadata": {},
     "output_type": "execute_result"
    }
   ],
   "source": [
    "product_name = products[1].xpath(\".//span/text()\")[0]\n",
    "product_name"
   ]
  },
  {
   "cell_type": "code",
   "execution_count": 36,
   "id": "dcbeedc3",
   "metadata": {},
   "outputs": [
    {
     "data": {
      "text/plain": [
       "'https://www.ebay.com/itm/362136303425?_trkparms=5079%3A0'"
      ]
     },
     "execution_count": 36,
     "metadata": {},
     "output_type": "execute_result"
    }
   ],
   "source": [
    "product_url = products[1].xpath(\".//a/@href\")[0]\n",
    "product_url"
   ]
  },
  {
   "cell_type": "code",
   "execution_count": 37,
   "id": "eb3ec401",
   "metadata": {},
   "outputs": [
    {
     "data": {
      "text/plain": [
       "'US $15.59'"
      ]
     },
     "execution_count": 37,
     "metadata": {},
     "output_type": "execute_result"
    }
   ],
   "source": [
    "price = products[1].xpath(\".//span/text()\")[1]\n",
    "price"
   ]
  },
  {
   "cell_type": "markdown",
   "id": "30586508",
   "metadata": {},
   "source": [
    "## Scraping for all the products"
   ]
  },
  {
   "cell_type": "code",
   "execution_count": 40,
   "id": "461e2e91",
   "metadata": {},
   "outputs": [
    {
     "name": "stderr",
     "output_type": "stream",
     "text": [
      "100%|████████████████████████████████████████████████████████████████████████████████| 24/24 [00:00<00:00, 8109.51it/s]\n"
     ]
    }
   ],
   "source": [
    "products = tree.xpath(\"//div[@class='dne-itemtile-detail']\")\n",
    "all_products = []\n",
    "\n",
    "for product in tqdm(products):\n",
    "    \n",
    "    ## Extract the name, price and url of each product:\n",
    "    product_name = product.xpath(\".//span/text()\")[0]\n",
    "    product_url = product.xpath(\".//a/@href\")[0]\n",
    "    price = product.xpath(\".//span/text()\")[1]\n",
    "    \n",
    "    ## now store the data of each product into a dictionary:\n",
    "    json_data = {\"product_name\":product_name,\n",
    "                \"url\":product_url,\n",
    "                \"price\":price}\n",
    "    \n",
    "    all_products.append(json_data)\n"
   ]
  },
  {
   "cell_type": "code",
   "execution_count": 41,
   "id": "02343754",
   "metadata": {},
   "outputs": [
    {
     "data": {
      "text/plain": [
       "[{'product_name': 'IZZO Golf Swami 6000 Handheld Golf GPS',\n",
       "  'url': 'https://www.ebay.com/itm/143893348510?_trkparms=5079%3A0',\n",
       "  'price': 'US $149.59'},\n",
       " {'product_name': 'Callaway HX Practice Golf Balls - 9 Pack - Orange',\n",
       "  'url': 'https://www.ebay.com/itm/362136303425?_trkparms=5079%3A0',\n",
       "  'price': 'US $15.59'},\n",
       " {'product_name': '12 Dozen New Taylormade TP5X Practice Golf Balls TP-5x Practice 144 Balls 12DZ',\n",
       "  'url': 'https://www.ebay.com/itm/363155517049?_trkparms=5079%3A0',\n",
       "  'price': 'US $251.99'},\n",
       " {'product_name': 'Callaway Basic Training Golf Bundle',\n",
       "  'url': 'https://www.ebay.com/itm/363229403181?_trkparms=5079%3A0',\n",
       "  'price': 'US $46.99'},\n",
       " {'product_name': 'IZZO Golf Swami Watch Golf GPS',\n",
       "  'url': 'https://www.ebay.com/itm/363229403212?_trkparms=5079%3A0',\n",
       "  'price': 'US $121.59'},\n",
       " {'product_name': 'Callaway Golf EZ Laser Rangefinder',\n",
       "  'url': 'https://www.ebay.com/itm/363229403270?_trkparms=5079%3A0',\n",
       "  'price': 'US $280.19'},\n",
       " {'product_name': 'Callaway Golf Swing-Easy Training Aid',\n",
       "  'url': 'https://www.ebay.com/itm/382245866716?_trkparms=5079%3A0',\n",
       "  'price': 'US $15.59'},\n",
       " {'product_name': 'Callaway HX-Practice Golf Balls - 9 Pack - Pink',\n",
       "  'url': 'https://www.ebay.com/itm/382245933720?_trkparms=5079%3A0',\n",
       "  'price': 'US $15.59'},\n",
       " {'product_name': 'Callaway HX 9 Count Practice Golf Balls - Green',\n",
       "  'url': 'https://www.ebay.com/itm/382247243534?_trkparms=5079%3A0',\n",
       "  'price': 'US $15.59'},\n",
       " {'product_name': 'Callaway Golf FT Launch Zone Mat',\n",
       "  'url': 'https://www.ebay.com/itm/382305902426?_trkparms=5079%3A0',\n",
       "  'price': 'US $46.99'},\n",
       " {'product_name': 'Callaway Tour-S Golf Laser Rangefinder - Slope Version',\n",
       "  'url': 'https://www.ebay.com/itm/383869076527?_trkparms=5079%3A0',\n",
       "  'price': 'US $420.39'},\n",
       " {'product_name': 'Glacier Glove Pro Field Full Finger Gloves - Black',\n",
       "  'url': 'https://www.ebay.com/itm/143645920280?_trkparms=5079%3A0',\n",
       "  'price': 'US $19.99'},\n",
       " {'product_name': 'Glacier Glove Pro Field Full Finger Gloves - Realtree Edge',\n",
       "  'url': 'https://www.ebay.com/itm/143645920336?_trkparms=5079%3A0',\n",
       "  'price': 'US $19.99'},\n",
       " {'product_name': 'Glacier Glove Elite Tactical Full Finger Gloves - Black',\n",
       "  'url': 'https://www.ebay.com/itm/143645934422?_trkparms=5079%3A0',\n",
       "  'price': 'US $18.99'},\n",
       " {'product_name': 'Glacier Glove Guide Full Finger Gloves - Black',\n",
       "  'url': 'https://www.ebay.com/itm/143645945636?_trkparms=5079%3A0',\n",
       "  'price': 'US $23.39'},\n",
       " {'product_name': 'Grunt Style Neck Gaiter',\n",
       "  'url': 'https://www.ebay.com/itm/143675513057?_trkparms=5079%3A0',\n",
       "  'price': 'US $16.99'},\n",
       " {'product_name': 'Garmin Vector 3 Pedal-Based Power Meter with Bluetooth Connectivity',\n",
       "  'url': 'https://www.ebay.com/itm/202409763418?_trkparms=5079%3A0',\n",
       "  'price': 'US $899.99'},\n",
       " {'product_name': \"Under Armour Men's UA ColdGear Base 4.0 Baselayer Fitness Leggings 1343245\",\n",
       "  'url': 'https://www.ebay.com/itm/353422532727?_trkparms=5079%3A0',\n",
       "  'price': 'US $70.99'},\n",
       " {'product_name': 'Glacier Glove Elite Shooting Full Finger Gloves - Realtree Edge',\n",
       "  'url': 'https://www.ebay.com/itm/363035688605?_trkparms=5079%3A0',\n",
       "  'price': 'US $18.39'},\n",
       " {'product_name': 'Glacier Glove Guide Full Finger Gloves - Coyote',\n",
       "  'url': 'https://www.ebay.com/itm/363035693757?_trkparms=5079%3A0',\n",
       "  'price': 'US $23.39'},\n",
       " {'product_name': 'HydraPak Stash 750ML Collapsible Lightweight Compact Water Bottle',\n",
       "  'url': 'https://www.ebay.com/itm/382767400493?_trkparms=5079%3A0',\n",
       "  'price': 'US $18.99'},\n",
       " {'product_name': 'Glacier Glove Pro Field Full Finger Gloves - Coyote',\n",
       "  'url': 'https://www.ebay.com/itm/383612493162?_trkparms=5079%3A0',\n",
       "  'price': 'US $19.99'},\n",
       " {'product_name': '2115QXPA 3/8\" Impact Wrench with Quiet Technology',\n",
       "  'url': 'https://www.ebay.com/itm/352817824976?_trkparms=5079%3A0',\n",
       "  'price': 'US $162.49'},\n",
       " {'product_name': 'Exotac fireSLEEVE Ruggedized Waterproof Lighter Case with Lighter- Black',\n",
       "  'url': 'https://www.ebay.com/itm/142080260133?_trkparms=5079%3A0',\n",
       "  'price': 'US $14.99'}]"
      ]
     },
     "execution_count": 41,
     "metadata": {},
     "output_type": "execute_result"
    }
   ],
   "source": [
    "all_products"
   ]
  },
  {
   "cell_type": "code",
   "execution_count": 42,
   "id": "0b3cd47a",
   "metadata": {},
   "outputs": [],
   "source": [
    "%%time\n",
    "with open(\"global_products.json\", \"w\") as f:\n",
    "    f.write(json.dumps(all_products))"
   ]
  }
 ],
 "metadata": {
  "kernelspec": {
   "display_name": "Python 3",
   "language": "python",
   "name": "python3"
  },
  "language_info": {
   "codemirror_mode": {
    "name": "ipython",
    "version": 3
   },
   "file_extension": ".py",
   "mimetype": "text/x-python",
   "name": "python",
   "nbconvert_exporter": "python",
   "pygments_lexer": "ipython3",
   "version": "3.6.13"
  }
 },
 "nbformat": 4,
 "nbformat_minor": 5
}
