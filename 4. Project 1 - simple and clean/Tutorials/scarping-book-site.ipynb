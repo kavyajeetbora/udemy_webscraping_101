{
 "cells": [
  {
   "cell_type": "code",
   "execution_count": 29,
   "id": "977d68f7",
   "metadata": {},
   "outputs": [],
   "source": [
    "import requests\n",
    "from lxml import html\n",
    "import re\n",
    "import json\n",
    "import csv\n",
    "import click"
   ]
  },
  {
   "cell_type": "code",
   "execution_count": 2,
   "id": "820471ac",
   "metadata": {},
   "outputs": [
    {
     "data": {
      "text/plain": [
       "<Response [200]>"
      ]
     },
     "execution_count": 2,
     "metadata": {},
     "output_type": "execute_result"
    }
   ],
   "source": [
    "response = requests.get(url=\"http://books.toscrape.com/catalogue/a-light-in-the-attic_1000/index.html\",\n",
    "                       headers={\"User-Agent\":\"Mozilla/5.0 (Windows NT 10.0; Win64; x64) AppleWebKit/537.36 (KHTML, like Gecko) Chrome/90.0.4430.85 Safari/537.36\"})\n",
    "response"
   ]
  },
  {
   "cell_type": "code",
   "execution_count": 3,
   "id": "613d8651",
   "metadata": {},
   "outputs": [
    {
     "name": "stdout",
     "output_type": "stream",
     "text": [
      "{'User-Agent': 'Mozilla/5.0 (Windows NT 10.0; Win64; x64) AppleWebKit/537.36 (KHTML, like Gecko) Chrome/90.0.4430.85 Safari/537.36', 'Accept-Encoding': 'gzip, deflate', 'Accept': '*/*', 'Connection': 'keep-alive'}\n"
     ]
    }
   ],
   "source": [
    "print(response.request.headers)"
   ]
  },
  {
   "cell_type": "markdown",
   "id": "2005f5cf",
   "metadata": {},
   "source": [
    "first while parsing a html file we used ```lxml.etree```. But since our response from the site is in text we will use different module called ```lxml.html```. and use ```fromstring()``` method to parse the html to a tree from text:"
   ]
  },
  {
   "cell_type": "code",
   "execution_count": 4,
   "id": "d6873818",
   "metadata": {},
   "outputs": [
    {
     "data": {
      "text/plain": [
       "<Element html at 0x29b5b072d68>"
      ]
     },
     "execution_count": 4,
     "metadata": {},
     "output_type": "execute_result"
    }
   ],
   "source": [
    "tree = html.fromstring(response.text)\n",
    "tree"
   ]
  },
  {
   "cell_type": "markdown",
   "id": "9d0bb34e",
   "metadata": {},
   "source": [
    "## srapping the contents\n",
    "\n",
    "- book title\n",
    "- book cost\n",
    "- book stock\n",
    "- book description"
   ]
  },
  {
   "cell_type": "code",
   "execution_count": 5,
   "id": "5a6e2609",
   "metadata": {},
   "outputs": [
    {
     "name": "stdout",
     "output_type": "stream",
     "text": [
      "A Light in the Attic \n",
      "\n",
      "Â£51.77 \n",
      "\n",
      "In stock (22 available) \n",
      "\n",
      "It's hard to imagine a world without A Light in the Attic. This now-classic collection of poetry and drawings from Shel Silverstein celebrates its 20th anniversary with this special edition. Silverstein's humorous and creative verse can amuse the dowdiest of readers. Lemon-faced adults and fidgety kids sit still and read these rhythmic words and laugh and smile and love th It's hard to imagine a world without A Light in the Attic. This now-classic collection of poetry and drawings from Shel Silverstein celebrates its 20th anniversary with this special edition. Silverstein's humorous and creative verse can amuse the dowdiest of readers. Lemon-faced adults and fidgety kids sit still and read these rhythmic words and laugh and smile and love that Silverstein. Need proof of his genius? RockabyeRockabye baby, in the treetopDon't you know a treetopIs no safe place to rock?And who put you up there,And your cradle, too?Baby, I think someone down here'sGot it in for you. Shel, you never sounded so good. ...more \n",
      "\n"
     ]
    }
   ],
   "source": [
    "title = tree.xpath(\"//div[contains(@class,'product_main')]/h1/text()\")[0]\n",
    "price = tree.xpath(\"//div[contains(@class,'product_main')]/p[1]/text()\")[0]\n",
    "stock = tree.xpath(\"//div[contains(@class,'product_main')]/p[2]/text()\")[1].strip()\n",
    "description = tree.xpath(\"//div[contains(@id,'product_description')]/following-sibling::p/text()\")[0]\n",
    "\n",
    "print(title,\"\\n\")\n",
    "print(price,\"\\n\")\n",
    "print(stock,\"\\n\")\n",
    "print(description,\"\\n\")"
   ]
  },
  {
   "cell_type": "markdown",
   "id": "9a0a8df1",
   "metadata": {},
   "source": [
    "Cleaning the xpath code in the above code:"
   ]
  },
  {
   "cell_type": "code",
   "execution_count": 6,
   "id": "9d0364fb",
   "metadata": {},
   "outputs": [],
   "source": [
    "## storing the main div from where we will scrap all the data into one variable\n",
    "product_main = tree.xpath(\"//div[contains(@class,'product_main')]\")[0]\n",
    "\n",
    "\n",
    "## Now we will use the same element 'product_main' to scrap the data we want: \n",
    "\n",
    "title = product_main.xpath(\".//h1/text()\")[0]\n",
    "price = product_main.xpath(\".//p[1]/text()\")[0]\n",
    "stock = product_main.xpath(\".//p[2]/text()\")[1].strip()\n",
    "description = tree.xpath(\"//div[contains(@id,'product_description')]/following-sibling::p/text()\")[0]"
   ]
  },
  {
   "cell_type": "markdown",
   "id": "840e56ab",
   "metadata": {},
   "source": [
    "Storing the data into one variable:"
   ]
  },
  {
   "cell_type": "code",
   "execution_count": 7,
   "id": "9d636c20",
   "metadata": {},
   "outputs": [
    {
     "data": {
      "text/plain": [
       "{'title': 'A Light in the Attic',\n",
       " 'price': 'Â£51.77',\n",
       " 'stock': 'In stock (22 available)',\n",
       " 'description': \"It's hard to imagine a world without A Light in the Attic. This now-classic collection of poetry and drawings from Shel Silverstein celebrates its 20th anniversary with this special edition. Silverstein's humorous and creative verse can amuse the dowdiest of readers. Lemon-faced adults and fidgety kids sit still and read these rhythmic words and laugh and smile and love th It's hard to imagine a world without A Light in the Attic. This now-classic collection of poetry and drawings from Shel Silverstein celebrates its 20th anniversary with this special edition. Silverstein's humorous and creative verse can amuse the dowdiest of readers. Lemon-faced adults and fidgety kids sit still and read these rhythmic words and laugh and smile and love that Silverstein. Need proof of his genius? RockabyeRockabye baby, in the treetopDon't you know a treetopIs no safe place to rock?And who put you up there,And your cradle, too?Baby, I think someone down here'sGot it in for you. Shel, you never sounded so good. ...more\"}"
      ]
     },
     "execution_count": 7,
     "metadata": {},
     "output_type": "execute_result"
    }
   ],
   "source": [
    "book_information = {\n",
    "    \"title\":title,\n",
    "    \"price\":price,\n",
    "    \"stock\":stock,\n",
    "    \"description\":description\n",
    "}\n",
    "\n",
    "book_information"
   ]
  },
  {
   "cell_type": "markdown",
   "id": "a3656e31",
   "metadata": {},
   "source": [
    "## Cleaning the data"
   ]
  },
  {
   "cell_type": "code",
   "execution_count": 15,
   "id": "fb034eed",
   "metadata": {},
   "outputs": [
    {
     "data": {
      "text/plain": [
       "'22'"
      ]
     },
     "execution_count": 15,
     "metadata": {},
     "output_type": "execute_result"
    }
   ],
   "source": [
    "regex = re.compile(\"\\d+\")\n",
    "stock_num = regex.findall(stock)[0]\n",
    "stock_num"
   ]
  },
  {
   "cell_type": "code",
   "execution_count": 16,
   "id": "7582a2d2",
   "metadata": {},
   "outputs": [
    {
     "data": {
      "text/plain": [
       "{'title': 'A Light in the Attic',\n",
       " 'price': 'Â£51.77',\n",
       " 'stock': '22',\n",
       " 'description': \"It's hard to imagine a world without A Light in the Attic. This now-classic collection of poetry and drawings from Shel Silverstein celebrates its 20th anniversary with this special edition. Silverstein's humorous and creative verse can amuse the dowdiest of readers. Lemon-faced adults and fidgety kids sit still and read these rhythmic words and laugh and smile and love th It's hard to imagine a world without A Light in the Attic. This now-classic collection of poetry and drawings from Shel Silverstein celebrates its 20th anniversary with this special edition. Silverstein's humorous and creative verse can amuse the dowdiest of readers. Lemon-faced adults and fidgety kids sit still and read these rhythmic words and laugh and smile and love that Silverstein. Need proof of his genius? RockabyeRockabye baby, in the treetopDon't you know a treetopIs no safe place to rock?And who put you up there,And your cradle, too?Baby, I think someone down here'sGot it in for you. Shel, you never sounded so good. ...more\"}"
      ]
     },
     "execution_count": 16,
     "metadata": {},
     "output_type": "execute_result"
    }
   ],
   "source": [
    "book_information = {\n",
    "    \"title\":title,\n",
    "    \"price\":price,\n",
    "    \"stock\":stock_num,\n",
    "    \"description\":description\n",
    "}\n",
    "\n",
    "book_information"
   ]
  },
  {
   "cell_type": "markdown",
   "id": "db55018e",
   "metadata": {},
   "source": [
    "## Writing the data to csv or json file\n",
    "\n",
    "**Writing to a json file:**"
   ]
  },
  {
   "cell_type": "code",
   "execution_count": 19,
   "id": "0ac348d4",
   "metadata": {},
   "outputs": [],
   "source": [
    "def write_to_json(data, filename):\n",
    "    '''\n",
    "    Takes the scraped data in dictionary format \n",
    "    and exports the data into json file\n",
    "    '''\n",
    "    json_file = open(filename, mode=\"w\")\n",
    "    json_file.write(json.dumps(data))\n",
    "    json_file.close()"
   ]
  },
  {
   "cell_type": "code",
   "execution_count": 20,
   "id": "5ce386f1",
   "metadata": {},
   "outputs": [],
   "source": [
    "write_to_json(book_information, \"data.json\")"
   ]
  },
  {
   "cell_type": "markdown",
   "id": "ad6c26f3",
   "metadata": {},
   "source": [
    "**Writing to a csv file:**"
   ]
  },
  {
   "cell_type": "code",
   "execution_count": 27,
   "id": "a8812b9f",
   "metadata": {},
   "outputs": [],
   "source": [
    "def write_to_csv(filename,data):\n",
    "    '''\n",
    "    Takes a the data in the form of dictionary\n",
    "    and stores the data into a csv file\n",
    "    '''\n",
    "    with open(filename,mode=\"w\") as f:\n",
    "        headers = [\"title\",\"price\",\"stock\",\"description\"]\n",
    "        writer = csv.DictWriter(f, headers)\n",
    "        writer.writeheader()\n",
    "        writer.writerow(data)"
   ]
  },
  {
   "cell_type": "code",
   "execution_count": 28,
   "id": "c5e028e6",
   "metadata": {},
   "outputs": [],
   "source": [
    "write_to_csv(\"data.csv\",book_information)"
   ]
  }
 ],
 "metadata": {
  "kernelspec": {
   "display_name": "Python 3",
   "language": "python",
   "name": "python3"
  },
  "language_info": {
   "codemirror_mode": {
    "name": "ipython",
    "version": 3
   },
   "file_extension": ".py",
   "mimetype": "text/x-python",
   "name": "python",
   "nbconvert_exporter": "python",
   "pygments_lexer": "ipython3",
   "version": "3.6.13"
  }
 },
 "nbformat": 4,
 "nbformat_minor": 5
}
