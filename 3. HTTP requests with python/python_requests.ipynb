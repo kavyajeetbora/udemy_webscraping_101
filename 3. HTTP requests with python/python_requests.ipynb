{
 "cells": [
  {
   "cell_type": "code",
   "execution_count": 1,
   "id": "d94f147e",
   "metadata": {},
   "outputs": [],
   "source": [
    "import requests"
   ]
  },
  {
   "cell_type": "code",
   "execution_count": 2,
   "id": "2e5783f1",
   "metadata": {},
   "outputs": [
    {
     "data": {
      "text/plain": [
       "<Response [200]>"
      ]
     },
     "execution_count": 2,
     "metadata": {},
     "output_type": "execute_result"
    }
   ],
   "source": [
    "response = requests.get(url=\"http://books.toscrape.com/catalogue/a-light-in-the-attic_1000/index.html\")\n",
    "response"
   ]
  },
  {
   "cell_type": "markdown",
   "id": "79d2bb68",
   "metadata": {},
   "source": [
    "- The HTTP 200 OK success status response code indicates that the request has succeeded.\n",
    "- The HTTP 404, 404 Not Found, 404, 404 Error, Page Not Found or File Not Found error\n",
    "\n",
    "To get the text of the html page:"
   ]
  },
  {
   "cell_type": "code",
   "execution_count": 3,
   "id": "da6bc678",
   "metadata": {},
   "outputs": [
    {
     "data": {
      "text/plain": [
       "'\\n\\n<!DOCTYPE html>\\n<!--[if lt IE 7]>      <html lang=\"en-us\" class=\"no-js lt-ie9 lt-ie8 lt-ie7\"> <![endif]-->\\n<!--[if IE 7]>         <html lang=\"en-us\" class=\"no-js lt-ie9 lt-ie8\"> <![endif]-->\\n<!--[if IE 8]>         <html lang=\"en-us\" class=\"no-js lt-ie9\"> <![endif]-->\\n<!--[if gt IE 8]><!--> <html lang=\"en-us\" class=\"no-js\"> <!--<![endif]-->\\n    <head>\\n        <title>\\n    A Light in the Attic | Books to Scrape - Sandbox\\n</title>\\n\\n        <meta http-equiv=\"content-type\" content=\"text/html; charset=UTF-8\" />\\n        <meta name=\"created\" content=\"24th Jun 2016 09:29\" />\\n        <meta name=\"description\" content=\"\\n    It&#39;s hard to imagine a world without A Light in the Attic. This now-classic collection of poetry and drawings from Shel Silverstein celebrates its 20th anniversary with this special edition. Silverstein&#39;s humorous and creative verse can amuse the dowdiest of readers. Lemon-faced adults and fidgety kids sit still and read these rhythmic words and laugh and smile and love th It&#39;s hard to imagine a world without A Light in the Attic. This now-classic collection of poetry and drawings from Shel Silverstein celebrates its 20th anniversary with this special edition. Silverstein&#39;s humorous and creative verse can amuse the dowdiest of readers. Lemon-faced adults and fidgety kids sit still and read these rhythmic words and laugh and smile and love that Silverstein. Need proof of his genius? RockabyeRockabye baby, in the treetopDon&#39;t you know a treetopIs no safe place to rock?And who put you up there,And your cradle, too?Baby, I think someone down here&#39;sGot it in for you. Shel, you never sounded so good. ...more\\n\" />\\n        <meta name=\"viewport\" content=\"width=device-width\" />\\n        <meta name=\"robots\" content=\"NOARCHIVE,NOCACHE\" />\\n\\n        <!-- Le HTML5 shim, for IE6-8 support of HTML elements -->\\n        <!--[if lt IE 9]>\\n        <script src=\"//html5shim.googlecode.com/svn/trunk/html5.js\"></script>\\n        <![endif]-->\\n\\n        \\n            <link rel=\"shortcut icon\" href=\"../../static/oscar/favicon.ico\" />\\n        \\n\\n        \\n        \\n    \\n    \\n        <link rel=\"stylesheet\" type=\"text/css\" href=\"../../static/oscar/css/styles.css\" />\\n    \\n    <link rel=\"stylesheet\" href=\"../../static/oscar/js/bootstrap-datetimepicker/bootstrap-datetimepicker.css\" />\\n    <link rel=\"stylesheet\" type=\"text/css\" href=\"../../static/oscar/css/datetimepicker.css\" />\\n\\n\\n        \\n        \\n\\n        \\n\\n        \\n            \\n            \\n\\n        \\n    </head>\\n\\n    <body id=\"default\" class=\"default\">\\n        \\n        \\n    \\n    \\n    <header class=\"header container-fluid\">\\n        <div class=\"page_inner\">\\n            <div class=\"row\">\\n                <div class=\"col-sm-8 h1\"><a href=\"../../index.html\">Books to Scrape</a><small> We love being scraped!</small>\\n</div>\\n\\n                \\n            </div>\\n        </div>\\n    </header>\\n\\n    \\n    \\n        <div class=\"container-fluid page\">\\n            <div class=\"page_inner\">\\n                \\n<ul class=\"breadcrumb\">\\n    <li>\\n        <a href=\"../../index.html\">Home</a>\\n    </li>\\n    \\n        \\n        <li>\\n            <a href=\"../category/books_1/index.html\">Books</a>\\n        </li>\\n        \\n        <li>\\n            <a href=\"../category/books/poetry_23/index.html\">Poetry</a>\\n        </li>\\n        \\n        <li class=\"active\">A Light in the Attic</li>\\n\\n        \\n        \\n    \\n</ul>\\n\\n                \\n\\n                \\n\\n\\n\\n<div id=\"messages\">\\n\\n</div>\\n\\n                \\n                <div class=\"content\">\\n                    \\n\\n                    \\n                    <div id=\"promotions\">\\n                        \\n                    </div>\\n\\n                    \\n                    <div id=\"content_inner\">\\n\\n<article class=\"product_page\"><!-- Start of product page -->\\n\\n    <div class=\"row\">\\n\\n        \\n        <div class=\"col-sm-6\">\\n            \\n\\n\\n\\n\\n    \\n\\n    \\n\\n        \\n        <div id=\"product_gallery\" class=\"carousel\">\\n            <div class=\"thumbnail\">\\n                <div class=\"carousel-inner\">\\n                    <div class=\"item active\">\\n                    \\n                        \\n                            <img src=\"../../media/cache/fe/72/fe72f0532301ec28892ae79a629a293c.jpg\" alt=\"A Light in the Attic\" />\\n                        \\n                    \\n                    </div>\\n                </div>\\n            </div>\\n        </div>\\n\\n    \\n\\n\\n        </div>\\n        \\n\\n        \\n        <div class=\"col-sm-6 product_main\">\\n            \\n            \\n            <h1>A Light in the Attic</h1>\\n\\n            \\n                \\n\\n\\n\\n\\n\\n\\n    \\n        <p class=\"price_color\">Â£51.77</p>\\n    \\n\\n<p class=\"instock availability\">\\n    <i class=\"icon-ok\"></i>\\n    \\n        In stock (22 available)\\n    \\n</p>\\n\\n            \\n\\n            \\n                \\n\\n\\n\\n    <p class=\"star-rating Three\">\\n        <i class=\"icon-star\"></i>\\n        <i class=\"icon-star\"></i>\\n        <i class=\"icon-star\"></i>\\n        <i class=\"icon-star\"></i>\\n        <i class=\"icon-star\"></i>\\n\\n        <!-- <small><a href=\"/catalogue/a-light-in-the-attic_1000/reviews/\">\\n        \\n                \\n                    0 customer reviews\\n                \\n        </a></small>\\n         -->&nbsp;\\n\\n\\n<!-- \\n    <a id=\"write_review\" href=\"/catalogue/a-light-in-the-attic_1000/reviews/add/#addreview\" class=\"btn btn-success btn-sm\">\\n        Write a review\\n    </a>\\n\\n --></p>\\n\\n            \\n\\n            <hr/>\\n\\n            <div class=\"alert alert-warning\" role=\"alert\"><strong>Warning!</strong> This is a demo website for web scraping purposes. Prices and ratings here were randomly assigned and have no real meaning.</div>\\n\\n\\n            \\n                \\n\\n\\n\\n\\n\\n\\n            \\n        </div><!-- /col-sm-6 -->\\n        \\n\\n    </div><!-- /row -->\\n\\n    \\n        \\n        <div id=\"product_description\" class=\"sub-header\">\\n            <h2>Product Description</h2>\\n        </div>\\n        <p>It\\'s hard to imagine a world without A Light in the Attic. This now-classic collection of poetry and drawings from Shel Silverstein celebrates its 20th anniversary with this special edition. Silverstein\\'s humorous and creative verse can amuse the dowdiest of readers. Lemon-faced adults and fidgety kids sit still and read these rhythmic words and laugh and smile and love th It\\'s hard to imagine a world without A Light in the Attic. This now-classic collection of poetry and drawings from Shel Silverstein celebrates its 20th anniversary with this special edition. Silverstein\\'s humorous and creative verse can amuse the dowdiest of readers. Lemon-faced adults and fidgety kids sit still and read these rhythmic words and laugh and smile and love that Silverstein. Need proof of his genius? RockabyeRockabye baby, in the treetopDon\\'t you know a treetopIs no safe place to rock?And who put you up there,And your cradle, too?Baby, I think someone down here\\'sGot it in for you. Shel, you never sounded so good. ...more</p>\\n        \\n    \\n\\n    \\n    <div class=\"sub-header\">\\n        <h2>Product Information</h2>\\n    </div>\\n    <table class=\"table table-striped\">\\n        \\n        <tr>\\n            <th>UPC</th><td>a897fe39b1053632</td>\\n        </tr>\\n        \\n        <tr>\\n            <th>Product Type</th><td>Books</td>\\n        </tr>\\n\\n        \\n        \\n            <tr>\\n                <th>Price (excl. tax)</th><td>Â£51.77</td>\\n            </tr>\\n            \\n                <tr>\\n                    <th>Price (incl. tax)</th><td>Â£51.77</td>\\n                </tr>\\n                <tr>\\n                    <th>Tax</th><td>Â£0.00</td>\\n                </tr>\\n            \\n            <tr>\\n                <th>Availability</th>\\n                <td>In stock (22 available)</td>\\n            </tr>\\n        \\n        \\n        \\n            <tr>\\n                <th>Number of reviews</th>\\n                <td>0</td>\\n            </tr>\\n        \\n    </table>\\n    \\n\\n    \\n        \\n        <section>\\n            <div id=\"reviews\" class=\"sub-header\">\\n            </div>\\n        </section>\\n        \\n    \\n\\n    \\n        \\n    \\n\\n    \\n\\n\\n\\n    \\n\\n\\n\\n</article><!-- End of product page -->\\n</div>\\n                </div>\\n            </div>\\n        </div>\\n    \\n\\n    \\n<footer class=\"footer container-fluid\">\\n    \\n        \\n    \\n</footer>\\n\\n\\n        \\n        \\n  \\n            <!-- jQuery -->\\n            <script src=\"http://ajax.googleapis.com/ajax/libs/jquery/1.9.1/jquery.min.js\"></script>\\n            <script>window.jQuery || document.write(\\'<script src=\"../../static/oscar/js/jquery/jquery-1.9.1.min.js\"><\\\\/script>\\')</script>\\n        \\n  \\n\\n\\n        \\n        \\n    \\n        \\n    <!-- Twitter Bootstrap -->\\n    <script type=\"text/javascript\" src=\"../../static/oscar/js/bootstrap3/bootstrap.min.js\"></script>\\n    <!-- Oscar -->\\n    <script src=\"../../static/oscar/js/oscar/ui.js\" type=\"text/javascript\" charset=\"utf-8\"></script>\\n\\n    <script src=\"../../static/oscar/js/bootstrap-datetimepicker/bootstrap-datetimepicker.js\" type=\"text/javascript\" charset=\"utf-8\"></script>\\n    <script src=\"../../static/oscar/js/bootstrap-datetimepicker/locales/bootstrap-datetimepicker.all.js\" type=\"text/javascript\" charset=\"utf-8\"></script>\\n\\n\\n        \\n        \\n    \\n    \\n\\n    \\n\\n\\n\\n        \\n        <script type=\"text/javascript\">\\n            $(function() {\\n                \\n    \\n    oscar.init();\\n\\n            });\\n        </script>\\n\\n        \\n        <!-- Version: N/A -->\\n        \\n    </body>\\n</html>\\n'"
      ]
     },
     "execution_count": 3,
     "metadata": {},
     "output_type": "execute_result"
    }
   ],
   "source": [
    "response.text"
   ]
  },
  {
   "cell_type": "markdown",
   "id": "447f873d",
   "metadata": {},
   "source": [
    "This returns the html code in text format from which we can use lxml parser to scarp data from this text.\n",
    "\n",
    "Another case we can return the data in byte format. That we do in case we want to download not text data like - audio, video, pdf, images etc:"
   ]
  },
  {
   "cell_type": "code",
   "execution_count": 4,
   "id": "6c00a45c",
   "metadata": {},
   "outputs": [
    {
     "data": {
      "text/plain": [
       "b'\\n\\n<!DOCTYPE html>\\n<!--[if lt IE 7]>      <html lang=\"en-us\" class=\"no-js lt-ie9 lt-ie8 lt-ie7\"> <![endif]-->\\n<!--[if IE 7]>         <html lang=\"en-us\" class=\"no-js lt-ie9 lt-ie8\"> <![endif]-->\\n<!--[if IE 8]>         <html lang=\"en-us\" class=\"no-js lt-ie9\"> <![endif]-->\\n<!--[if gt IE 8]><!--> <html lang=\"en-us\" class=\"no-js\"> <!--<![endif]-->\\n    <head>\\n        <title>\\n    A Light in the Attic | Books to Scrape - Sandbox\\n</title>\\n\\n        <meta http-equiv=\"content-type\" content=\"text/html; charset=UTF-8\" />\\n        <meta name=\"created\" content=\"24th Jun 2016 09:29\" />\\n        <meta name=\"description\" content=\"\\n    It&#39;s hard to imagine a world without A Light in the Attic. This now-classic collection of poetry and drawings from Shel Silverstein celebrates its 20th anniversary with this special edition. Silverstein&#39;s humorous and creative verse can amuse the dowdiest of readers. Lemon-faced adults and fidgety kids sit still and read these rhythmic words and laugh and smile and love th It&#39;s hard to imagine a world without A Light in the Attic. This now-classic collection of poetry and drawings from Shel Silverstein celebrates its 20th anniversary with this special edition. Silverstein&#39;s humorous and creative verse can amuse the dowdiest of readers. Lemon-faced adults and fidgety kids sit still and read these rhythmic words and laugh and smile and love that Silverstein. Need proof of his genius? RockabyeRockabye baby, in the treetopDon&#39;t you know a treetopIs no safe place to rock?And who put you up there,And your cradle, too?Baby, I think someone down here&#39;sGot it in for you. Shel, you never sounded so good. ...more\\n\" />\\n        <meta name=\"viewport\" content=\"width=device-width\" />\\n        <meta name=\"robots\" content=\"NOARCHIVE,NOCACHE\" />\\n\\n        <!-- Le HTML5 shim, for IE6-8 support of HTML elements -->\\n        <!--[if lt IE 9]>\\n        <script src=\"//html5shim.googlecode.com/svn/trunk/html5.js\"></script>\\n        <![endif]-->\\n\\n        \\n            <link rel=\"shortcut icon\" href=\"../../static/oscar/favicon.ico\" />\\n        \\n\\n        \\n        \\n    \\n    \\n        <link rel=\"stylesheet\" type=\"text/css\" href=\"../../static/oscar/css/styles.css\" />\\n    \\n    <link rel=\"stylesheet\" href=\"../../static/oscar/js/bootstrap-datetimepicker/bootstrap-datetimepicker.css\" />\\n    <link rel=\"stylesheet\" type=\"text/css\" href=\"../../static/oscar/css/datetimepicker.css\" />\\n\\n\\n        \\n        \\n\\n        \\n\\n        \\n            \\n            \\n\\n        \\n    </head>\\n\\n    <body id=\"default\" class=\"default\">\\n        \\n        \\n    \\n    \\n    <header class=\"header container-fluid\">\\n        <div class=\"page_inner\">\\n            <div class=\"row\">\\n                <div class=\"col-sm-8 h1\"><a href=\"../../index.html\">Books to Scrape</a><small> We love being scraped!</small>\\n</div>\\n\\n                \\n            </div>\\n        </div>\\n    </header>\\n\\n    \\n    \\n        <div class=\"container-fluid page\">\\n            <div class=\"page_inner\">\\n                \\n<ul class=\"breadcrumb\">\\n    <li>\\n        <a href=\"../../index.html\">Home</a>\\n    </li>\\n    \\n        \\n        <li>\\n            <a href=\"../category/books_1/index.html\">Books</a>\\n        </li>\\n        \\n        <li>\\n            <a href=\"../category/books/poetry_23/index.html\">Poetry</a>\\n        </li>\\n        \\n        <li class=\"active\">A Light in the Attic</li>\\n\\n        \\n        \\n    \\n</ul>\\n\\n                \\n\\n                \\n\\n\\n\\n<div id=\"messages\">\\n\\n</div>\\n\\n                \\n                <div class=\"content\">\\n                    \\n\\n                    \\n                    <div id=\"promotions\">\\n                        \\n                    </div>\\n\\n                    \\n                    <div id=\"content_inner\">\\n\\n<article class=\"product_page\"><!-- Start of product page -->\\n\\n    <div class=\"row\">\\n\\n        \\n        <div class=\"col-sm-6\">\\n            \\n\\n\\n\\n\\n    \\n\\n    \\n\\n        \\n        <div id=\"product_gallery\" class=\"carousel\">\\n            <div class=\"thumbnail\">\\n                <div class=\"carousel-inner\">\\n                    <div class=\"item active\">\\n                    \\n                        \\n                            <img src=\"../../media/cache/fe/72/fe72f0532301ec28892ae79a629a293c.jpg\" alt=\"A Light in the Attic\" />\\n                        \\n                    \\n                    </div>\\n                </div>\\n            </div>\\n        </div>\\n\\n    \\n\\n\\n        </div>\\n        \\n\\n        \\n        <div class=\"col-sm-6 product_main\">\\n            \\n            \\n            <h1>A Light in the Attic</h1>\\n\\n            \\n                \\n\\n\\n\\n\\n\\n\\n    \\n        <p class=\"price_color\">\\xc2\\xa351.77</p>\\n    \\n\\n<p class=\"instock availability\">\\n    <i class=\"icon-ok\"></i>\\n    \\n        In stock (22 available)\\n    \\n</p>\\n\\n            \\n\\n            \\n                \\n\\n\\n\\n    <p class=\"star-rating Three\">\\n        <i class=\"icon-star\"></i>\\n        <i class=\"icon-star\"></i>\\n        <i class=\"icon-star\"></i>\\n        <i class=\"icon-star\"></i>\\n        <i class=\"icon-star\"></i>\\n\\n        <!-- <small><a href=\"/catalogue/a-light-in-the-attic_1000/reviews/\">\\n        \\n                \\n                    0 customer reviews\\n                \\n        </a></small>\\n         -->&nbsp;\\n\\n\\n<!-- \\n    <a id=\"write_review\" href=\"/catalogue/a-light-in-the-attic_1000/reviews/add/#addreview\" class=\"btn btn-success btn-sm\">\\n        Write a review\\n    </a>\\n\\n --></p>\\n\\n            \\n\\n            <hr/>\\n\\n            <div class=\"alert alert-warning\" role=\"alert\"><strong>Warning!</strong> This is a demo website for web scraping purposes. Prices and ratings here were randomly assigned and have no real meaning.</div>\\n\\n\\n            \\n                \\n\\n\\n\\n\\n\\n\\n            \\n        </div><!-- /col-sm-6 -->\\n        \\n\\n    </div><!-- /row -->\\n\\n    \\n        \\n        <div id=\"product_description\" class=\"sub-header\">\\n            <h2>Product Description</h2>\\n        </div>\\n        <p>It\\'s hard to imagine a world without A Light in the Attic. This now-classic collection of poetry and drawings from Shel Silverstein celebrates its 20th anniversary with this special edition. Silverstein\\'s humorous and creative verse can amuse the dowdiest of readers. Lemon-faced adults and fidgety kids sit still and read these rhythmic words and laugh and smile and love th It\\'s hard to imagine a world without A Light in the Attic. This now-classic collection of poetry and drawings from Shel Silverstein celebrates its 20th anniversary with this special edition. Silverstein\\'s humorous and creative verse can amuse the dowdiest of readers. Lemon-faced adults and fidgety kids sit still and read these rhythmic words and laugh and smile and love that Silverstein. Need proof of his genius? RockabyeRockabye baby, in the treetopDon\\'t you know a treetopIs no safe place to rock?And who put you up there,And your cradle, too?Baby, I think someone down here\\'sGot it in for you. Shel, you never sounded so good. ...more</p>\\n        \\n    \\n\\n    \\n    <div class=\"sub-header\">\\n        <h2>Product Information</h2>\\n    </div>\\n    <table class=\"table table-striped\">\\n        \\n        <tr>\\n            <th>UPC</th><td>a897fe39b1053632</td>\\n        </tr>\\n        \\n        <tr>\\n            <th>Product Type</th><td>Books</td>\\n        </tr>\\n\\n        \\n        \\n            <tr>\\n                <th>Price (excl. tax)</th><td>\\xc2\\xa351.77</td>\\n            </tr>\\n            \\n                <tr>\\n                    <th>Price (incl. tax)</th><td>\\xc2\\xa351.77</td>\\n                </tr>\\n                <tr>\\n                    <th>Tax</th><td>\\xc2\\xa30.00</td>\\n                </tr>\\n            \\n            <tr>\\n                <th>Availability</th>\\n                <td>In stock (22 available)</td>\\n            </tr>\\n        \\n        \\n        \\n            <tr>\\n                <th>Number of reviews</th>\\n                <td>0</td>\\n            </tr>\\n        \\n    </table>\\n    \\n\\n    \\n        \\n        <section>\\n            <div id=\"reviews\" class=\"sub-header\">\\n            </div>\\n        </section>\\n        \\n    \\n\\n    \\n        \\n    \\n\\n    \\n\\n\\n\\n    \\n\\n\\n\\n</article><!-- End of product page -->\\n</div>\\n                </div>\\n            </div>\\n        </div>\\n    \\n\\n    \\n<footer class=\"footer container-fluid\">\\n    \\n        \\n    \\n</footer>\\n\\n\\n        \\n        \\n  \\n            <!-- jQuery -->\\n            <script src=\"http://ajax.googleapis.com/ajax/libs/jquery/1.9.1/jquery.min.js\"></script>\\n            <script>window.jQuery || document.write(\\'<script src=\"../../static/oscar/js/jquery/jquery-1.9.1.min.js\"><\\\\/script>\\')</script>\\n        \\n  \\n\\n\\n        \\n        \\n    \\n        \\n    <!-- Twitter Bootstrap -->\\n    <script type=\"text/javascript\" src=\"../../static/oscar/js/bootstrap3/bootstrap.min.js\"></script>\\n    <!-- Oscar -->\\n    <script src=\"../../static/oscar/js/oscar/ui.js\" type=\"text/javascript\" charset=\"utf-8\"></script>\\n\\n    <script src=\"../../static/oscar/js/bootstrap-datetimepicker/bootstrap-datetimepicker.js\" type=\"text/javascript\" charset=\"utf-8\"></script>\\n    <script src=\"../../static/oscar/js/bootstrap-datetimepicker/locales/bootstrap-datetimepicker.all.js\" type=\"text/javascript\" charset=\"utf-8\"></script>\\n\\n\\n        \\n        \\n    \\n    \\n\\n    \\n\\n\\n\\n        \\n        <script type=\"text/javascript\">\\n            $(function() {\\n                \\n    \\n    oscar.init();\\n\\n            });\\n        </script>\\n\\n        \\n        <!-- Version: N/A -->\\n        \\n    </body>\\n</html>\\n'"
      ]
     },
     "execution_count": 4,
     "metadata": {},
     "output_type": "execute_result"
    }
   ],
   "source": [
    "response.content"
   ]
  },
  {
   "cell_type": "markdown",
   "id": "4d082fb1",
   "metadata": {},
   "source": [
    "## Request headers"
   ]
  },
  {
   "cell_type": "code",
   "execution_count": 5,
   "id": "d2a57f2e",
   "metadata": {},
   "outputs": [
    {
     "data": {
      "text/plain": [
       "{'Server': 'nginx/1.17.7', 'Date': 'Sun, 25 Apr 2021 08:34:54 GMT', 'Content-Type': 'text/html', 'Transfer-Encoding': 'chunked', 'Connection': 'keep-alive', 'Vary': 'Accept-Encoding', 'Last-Modified': 'Thu, 25 Mar 2021 13:59:05 GMT', 'Content-Encoding': 'gzip'}"
      ]
     },
     "execution_count": 5,
     "metadata": {},
     "output_type": "execute_result"
    }
   ],
   "source": [
    "response.headers"
   ]
  },
  {
   "cell_type": "code",
   "execution_count": 7,
   "id": "385740cc",
   "metadata": {},
   "outputs": [
    {
     "data": {
      "text/plain": [
       "{'User-Agent': 'python-requests/2.25.1', 'Accept-Encoding': 'gzip, deflate', 'Accept': '*/*', 'Connection': 'keep-alive'}"
      ]
     },
     "execution_count": 7,
     "metadata": {},
     "output_type": "execute_result"
    }
   ],
   "source": [
    "response.request.headers"
   ]
  },
  {
   "cell_type": "markdown",
   "id": "6d5f718f",
   "metadata": {},
   "source": [
    "Here the user agent is set to ```python-request/2.25.1```. which is not a good practice. Because the host site might think some program is scrapping out data. So we might get blocked from the site. So hence is it recommended to set the user-agent to browser name like this:"
   ]
  },
  {
   "cell_type": "code",
   "execution_count": 10,
   "id": "c4aa1c2c",
   "metadata": {},
   "outputs": [
    {
     "data": {
      "text/plain": [
       "<Response [200]>"
      ]
     },
     "execution_count": 10,
     "metadata": {},
     "output_type": "execute_result"
    }
   ],
   "source": [
    "response = requests.get(url=\"http://books.toscrape.com/catalogue/a-light-in-the-attic_1000/index.html\",\n",
    "                       headers = {\"User-Agent\":\"Mozilla/5.0 (Windows NT 10.0; Win64; x64) AppleWebKit/537.36 (KHTML, like Gecko) Chrome/90.0.4430.85 Safari/537.36\"})\n",
    "response"
   ]
  },
  {
   "cell_type": "code",
   "execution_count": 11,
   "id": "0eacaba4",
   "metadata": {},
   "outputs": [
    {
     "data": {
      "text/plain": [
       "{'User-Agent': 'Mozilla/5.0 (Windows NT 10.0; Win64; x64) AppleWebKit/537.36 (KHTML, like Gecko) Chrome/90.0.4430.85 Safari/537.36', 'Accept-Encoding': 'gzip, deflate', 'Accept': '*/*', 'Connection': 'keep-alive'}"
      ]
     },
     "execution_count": 11,
     "metadata": {},
     "output_type": "execute_result"
    }
   ],
   "source": [
    "response.request.headers"
   ]
  },
  {
   "cell_type": "markdown",
   "id": "af4d49d4",
   "metadata": {},
   "source": [
    "Now the host site will not suspect that some bot is scrapping their data. \n",
    "\n",
    "**Also request headers are very very important. If you want to debug how your script is behaving, because the python request response might not return the same html markup that we get in the browser because of missing headers in the requests.**  "
   ]
  }
 ],
 "metadata": {
  "kernelspec": {
   "display_name": "Python 3",
   "language": "python",
   "name": "python3"
  },
  "language_info": {
   "codemirror_mode": {
    "name": "ipython",
    "version": 3
   },
   "file_extension": ".py",
   "mimetype": "text/x-python",
   "name": "python",
   "nbconvert_exporter": "python",
   "pygments_lexer": "ipython3",
   "version": "3.6.13"
  }
 },
 "nbformat": 4,
 "nbformat_minor": 5
}
